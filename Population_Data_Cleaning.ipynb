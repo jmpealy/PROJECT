{
 "cells": [
  {
   "cell_type": "code",
   "execution_count": 1,
   "metadata": {},
   "outputs": [
    {
     "name": "stderr",
     "output_type": "stream",
     "text": [
      "c:\\Users\\alici\\anaconda3\\lib\\site-packages\\fuzzywuzzy\\fuzz.py:11: UserWarning: Using slow pure-python SequenceMatcher. Install python-Levenshtein to remove this warning\n",
      "  warnings.warn('Using slow pure-python SequenceMatcher. Install python-Levenshtein to remove this warning')\n"
     ]
    }
   ],
   "source": [
    "# Import dependencies\n",
    "import pandas as pd\n",
    "import numpy as np\n",
    "import matplotlib.pyplot as plt\n",
    "import requests\n",
    "import json\n",
    "import pprint\n",
    "from uszipcode import SearchEngine\n",
    "from config import api_key\n",
    "from census import Census"
   ]
  },
  {
   "cell_type": "code",
   "execution_count": 2,
   "metadata": {},
   "outputs": [
    {
     "data": {
      "text/html": [
       "<div>\n",
       "<style scoped>\n",
       "    .dataframe tbody tr th:only-of-type {\n",
       "        vertical-align: middle;\n",
       "    }\n",
       "\n",
       "    .dataframe tbody tr th {\n",
       "        vertical-align: top;\n",
       "    }\n",
       "\n",
       "    .dataframe thead th {\n",
       "        text-align: right;\n",
       "    }\n",
       "</style>\n",
       "<table border=\"1\" class=\"dataframe\">\n",
       "  <thead>\n",
       "    <tr style=\"text-align: right;\">\n",
       "      <th></th>\n",
       "      <th>Case Number</th>\n",
       "      <th>Date</th>\n",
       "      <th>Block</th>\n",
       "      <th>Primary Type</th>\n",
       "      <th>Description</th>\n",
       "      <th>District</th>\n",
       "      <th>Ward</th>\n",
       "      <th>Year</th>\n",
       "      <th>Latitude</th>\n",
       "      <th>Longitude</th>\n",
       "      <th>Location</th>\n",
       "      <th>Population</th>\n",
       "      <th>Zipcode</th>\n",
       "    </tr>\n",
       "  </thead>\n",
       "  <tbody>\n",
       "    <tr>\n",
       "      <th>0</th>\n",
       "      <td>JC104662</td>\n",
       "      <td>12/31/2018 23:59</td>\n",
       "      <td>112XX S SACRAMENTO AVE</td>\n",
       "      <td>MINOR PROPERTY CRIME</td>\n",
       "      <td>TO VEHICLE</td>\n",
       "      <td>22</td>\n",
       "      <td>19</td>\n",
       "      <td>2018</td>\n",
       "      <td>41.689079</td>\n",
       "      <td>-87.696064</td>\n",
       "      <td>(41.689078832, -87.696064026)</td>\n",
       "      <td>28804</td>\n",
       "      <td>60655</td>\n",
       "    </tr>\n",
       "    <tr>\n",
       "      <th>1</th>\n",
       "      <td>JC100043</td>\n",
       "      <td>12/31/2018 23:57</td>\n",
       "      <td>084XX S SANGAMON ST</td>\n",
       "      <td>MINOR PROPERTY CRIME</td>\n",
       "      <td>TO PROPERTY</td>\n",
       "      <td>6</td>\n",
       "      <td>21</td>\n",
       "      <td>2018</td>\n",
       "      <td>41.740521</td>\n",
       "      <td>-87.647391</td>\n",
       "      <td>(41.740520866, -87.647390719)</td>\n",
       "      <td>68096</td>\n",
       "      <td>60620</td>\n",
       "    </tr>\n",
       "    <tr>\n",
       "      <th>2</th>\n",
       "      <td>JC100006</td>\n",
       "      <td>12/31/2018 23:56</td>\n",
       "      <td>018XX S ALLPORT ST</td>\n",
       "      <td>ASSAULT &amp; BATTERY</td>\n",
       "      <td>AGG: HANDS/FIST/FEET NO/MINOR INJURY</td>\n",
       "      <td>12</td>\n",
       "      <td>25</td>\n",
       "      <td>2018</td>\n",
       "      <td>41.857068</td>\n",
       "      <td>-87.657625</td>\n",
       "      <td>(41.857068095, -87.657625201)</td>\n",
       "      <td>79205</td>\n",
       "      <td>60608</td>\n",
       "    </tr>\n",
       "    <tr>\n",
       "      <th>3</th>\n",
       "      <td>JC100031</td>\n",
       "      <td>12/31/2018 23:55</td>\n",
       "      <td>078XX S SANGAMON ST</td>\n",
       "      <td>ASSAULT &amp; BATTERY</td>\n",
       "      <td>DOMESTIC BATTERY SIMPLE</td>\n",
       "      <td>6</td>\n",
       "      <td>17</td>\n",
       "      <td>2018</td>\n",
       "      <td>41.751914</td>\n",
       "      <td>-87.647717</td>\n",
       "      <td>(41.75191443, -87.647716532)</td>\n",
       "      <td>68096</td>\n",
       "      <td>60620</td>\n",
       "    </tr>\n",
       "    <tr>\n",
       "      <th>4</th>\n",
       "      <td>JC100026</td>\n",
       "      <td>12/31/2018 23:49</td>\n",
       "      <td>052XX W GLADYS AVE</td>\n",
       "      <td>ASSAULT &amp; BATTERY</td>\n",
       "      <td>AGGRAVATED - HANDGUN</td>\n",
       "      <td>15</td>\n",
       "      <td>29</td>\n",
       "      <td>2018</td>\n",
       "      <td>41.875684</td>\n",
       "      <td>-87.760479</td>\n",
       "      <td>(41.87568438, -87.760479356)</td>\n",
       "      <td>47712</td>\n",
       "      <td>60644</td>\n",
       "    </tr>\n",
       "    <tr>\n",
       "      <th>...</th>\n",
       "      <td>...</td>\n",
       "      <td>...</td>\n",
       "      <td>...</td>\n",
       "      <td>...</td>\n",
       "      <td>...</td>\n",
       "      <td>...</td>\n",
       "      <td>...</td>\n",
       "      <td>...</td>\n",
       "      <td>...</td>\n",
       "      <td>...</td>\n",
       "      <td>...</td>\n",
       "      <td>...</td>\n",
       "      <td>...</td>\n",
       "    </tr>\n",
       "    <tr>\n",
       "      <th>1048570</th>\n",
       "      <td>JF371972</td>\n",
       "      <td>8/27/2022 2:30</td>\n",
       "      <td>023XX S HAMLIN AVE</td>\n",
       "      <td>THEFT (ALL TYPES)</td>\n",
       "      <td>AUTOMOBILE</td>\n",
       "      <td>10</td>\n",
       "      <td>22</td>\n",
       "      <td>2022</td>\n",
       "      <td>41.849272</td>\n",
       "      <td>-87.719809</td>\n",
       "      <td>(41.849272146, -87.719809208)</td>\n",
       "      <td>77352</td>\n",
       "      <td>60623</td>\n",
       "    </tr>\n",
       "    <tr>\n",
       "      <th>1048571</th>\n",
       "      <td>JF376352</td>\n",
       "      <td>7/20/2022 12:02</td>\n",
       "      <td>082XX S EAST END AVE</td>\n",
       "      <td>THEFT (ALL TYPES)</td>\n",
       "      <td>OVER $500</td>\n",
       "      <td>4</td>\n",
       "      <td>8</td>\n",
       "      <td>2022</td>\n",
       "      <td>41.745362</td>\n",
       "      <td>-87.582937</td>\n",
       "      <td>(41.745362374, -87.582937407)</td>\n",
       "      <td>48973</td>\n",
       "      <td>60649</td>\n",
       "    </tr>\n",
       "    <tr>\n",
       "      <th>1048572</th>\n",
       "      <td>JF375554</td>\n",
       "      <td>8/29/2022 22:20</td>\n",
       "      <td>007XX W 109TH ST</td>\n",
       "      <td>MINOR PROPERTY CRIME</td>\n",
       "      <td>TO VEHICLE</td>\n",
       "      <td>22</td>\n",
       "      <td>34</td>\n",
       "      <td>2022</td>\n",
       "      <td>41.696007</td>\n",
       "      <td>-87.641705</td>\n",
       "      <td>(41.696006842, -87.641705115)</td>\n",
       "      <td>49796</td>\n",
       "      <td>60643</td>\n",
       "    </tr>\n",
       "    <tr>\n",
       "      <th>1048573</th>\n",
       "      <td>JF375348</td>\n",
       "      <td>8/29/2022 18:45</td>\n",
       "      <td>002XX W 26TH ST</td>\n",
       "      <td>THEFT (ALL TYPES)</td>\n",
       "      <td>CYCLE, SCOOTER, BIKE WITH VIN</td>\n",
       "      <td>9</td>\n",
       "      <td>11</td>\n",
       "      <td>2022</td>\n",
       "      <td>41.845498</td>\n",
       "      <td>-87.633792</td>\n",
       "      <td>(41.845498317, -87.633792155)</td>\n",
       "      <td>53085</td>\n",
       "      <td>60616</td>\n",
       "    </tr>\n",
       "    <tr>\n",
       "      <th>1048574</th>\n",
       "      <td>JF377121</td>\n",
       "      <td>8/30/2022 15:00</td>\n",
       "      <td>049XX S KEELER AVE</td>\n",
       "      <td>THEFT (ALL TYPES)</td>\n",
       "      <td>AUTOMOBILE</td>\n",
       "      <td>8</td>\n",
       "      <td>14</td>\n",
       "      <td>2022</td>\n",
       "      <td>41.803546</td>\n",
       "      <td>-87.728359</td>\n",
       "      <td>(41.803545745, -87.728358627)</td>\n",
       "      <td>87395</td>\n",
       "      <td>60632</td>\n",
       "    </tr>\n",
       "  </tbody>\n",
       "</table>\n",
       "<p>1048575 rows × 13 columns</p>\n",
       "</div>"
      ],
      "text/plain": [
       "        Case Number              Date                   Block  \\\n",
       "0          JC104662  12/31/2018 23:59  112XX S SACRAMENTO AVE   \n",
       "1          JC100043  12/31/2018 23:57     084XX S SANGAMON ST   \n",
       "2          JC100006  12/31/2018 23:56      018XX S ALLPORT ST   \n",
       "3          JC100031  12/31/2018 23:55     078XX S SANGAMON ST   \n",
       "4          JC100026  12/31/2018 23:49      052XX W GLADYS AVE   \n",
       "...             ...               ...                     ...   \n",
       "1048570    JF371972    8/27/2022 2:30      023XX S HAMLIN AVE   \n",
       "1048571    JF376352   7/20/2022 12:02    082XX S EAST END AVE   \n",
       "1048572    JF375554   8/29/2022 22:20        007XX W 109TH ST   \n",
       "1048573    JF375348   8/29/2022 18:45         002XX W 26TH ST   \n",
       "1048574    JF377121   8/30/2022 15:00      049XX S KEELER AVE   \n",
       "\n",
       "                 Primary Type                           Description  District  \\\n",
       "0        MINOR PROPERTY CRIME                            TO VEHICLE        22   \n",
       "1        MINOR PROPERTY CRIME                           TO PROPERTY         6   \n",
       "2           ASSAULT & BATTERY  AGG: HANDS/FIST/FEET NO/MINOR INJURY        12   \n",
       "3           ASSAULT & BATTERY               DOMESTIC BATTERY SIMPLE         6   \n",
       "4           ASSAULT & BATTERY                  AGGRAVATED - HANDGUN        15   \n",
       "...                       ...                                   ...       ...   \n",
       "1048570     THEFT (ALL TYPES)                            AUTOMOBILE        10   \n",
       "1048571     THEFT (ALL TYPES)                             OVER $500         4   \n",
       "1048572  MINOR PROPERTY CRIME                            TO VEHICLE        22   \n",
       "1048573     THEFT (ALL TYPES)         CYCLE, SCOOTER, BIKE WITH VIN         9   \n",
       "1048574     THEFT (ALL TYPES)                            AUTOMOBILE         8   \n",
       "\n",
       "         Ward  Year   Latitude  Longitude                       Location  \\\n",
       "0          19  2018  41.689079 -87.696064  (41.689078832, -87.696064026)   \n",
       "1          21  2018  41.740521 -87.647391  (41.740520866, -87.647390719)   \n",
       "2          25  2018  41.857068 -87.657625  (41.857068095, -87.657625201)   \n",
       "3          17  2018  41.751914 -87.647717   (41.75191443, -87.647716532)   \n",
       "4          29  2018  41.875684 -87.760479   (41.87568438, -87.760479356)   \n",
       "...       ...   ...        ...        ...                            ...   \n",
       "1048570    22  2022  41.849272 -87.719809  (41.849272146, -87.719809208)   \n",
       "1048571     8  2022  41.745362 -87.582937  (41.745362374, -87.582937407)   \n",
       "1048572    34  2022  41.696007 -87.641705  (41.696006842, -87.641705115)   \n",
       "1048573    11  2022  41.845498 -87.633792  (41.845498317, -87.633792155)   \n",
       "1048574    14  2022  41.803546 -87.728359  (41.803545745, -87.728358627)   \n",
       "\n",
       "         Population  Zipcode  \n",
       "0             28804    60655  \n",
       "1             68096    60620  \n",
       "2             79205    60608  \n",
       "3             68096    60620  \n",
       "4             47712    60644  \n",
       "...             ...      ...  \n",
       "1048570       77352    60623  \n",
       "1048571       48973    60649  \n",
       "1048572       49796    60643  \n",
       "1048573       53085    60616  \n",
       "1048574       87395    60632  \n",
       "\n",
       "[1048575 rows x 13 columns]"
      ]
     },
     "execution_count": 2,
     "metadata": {},
     "output_type": "execute_result"
    }
   ],
   "source": [
    "# Read in data from csv file\n",
    "crime_df = pd.read_csv(\"chicago_crimes_all_cleaned.csv\")\n",
    "\n",
    "# Remove District 31 as it has a very low count\n",
    "crime_df = crime_df[crime_df[\"District\"] != 31]\n",
    "crime_df = crime_df[[\"Case Number\", \"Date\", \"Block\", \"Primary Type\", \"Description\", \"District\", \"Ward\",\n",
    "                                     \"Year\", \"Latitude\", \"Longitude\", \"Location\", \"Population\", \"Zipcode\"]]\n",
    "crime_df"
   ]
  },
  {
   "cell_type": "code",
   "execution_count": 3,
   "metadata": {},
   "outputs": [],
   "source": [
    "crime_df.to_csv(\"chicago_crimes_all_cleaned_final.csv\", index = False)"
   ]
  },
  {
   "cell_type": "code",
   "execution_count": 4,
   "metadata": {},
   "outputs": [],
   "source": [
    "# Create a SearchEngine object \n",
    "search = SearchEngine()"
   ]
  },
  {
   "cell_type": "code",
   "execution_count": 5,
   "metadata": {},
   "outputs": [],
   "source": [
    "# Define a function to get zip code from latitude and longitude\n",
    "def fill_zip_code(row):\n",
    "    # Use uszipcode's search by coordinates function, and set a small radius since we're only looking at Chicago\n",
    "    result = search.by_coordinates(row['Latitude'], row['Longitude'], radius = 5)\n",
    "    # If the result of the search is not empty\n",
    "    if result:\n",
    "        # Return the first element (zipcode) \n",
    "        return result[0].zipcode\n",
    "    else:\n",
    "        # If the result doesn't have a zipcode to pull, don't return anything\n",
    "        return None"
   ]
  },
  {
   "cell_type": "code",
   "execution_count": 6,
   "metadata": {},
   "outputs": [],
   "source": [
    "# Run the latitude and longitude through the function to get the zip code. Note: this takes an extremely long amount of time.\n",
    "crime_df[\"Zipcode\"] = crime_df.apply(fill_zip_code, axis=1)\n",
    "\n"
   ]
  },
  {
   "cell_type": "code",
   "execution_count": null,
   "metadata": {},
   "outputs": [],
   "source": [
    "# Check to make sure zip codes were filled\n",
    "crime_df"
   ]
  },
  {
   "cell_type": "code",
   "execution_count": null,
   "metadata": {},
   "outputs": [],
   "source": [
    "# Change Zip code from an object to a float for merging purposes\n",
    "crime_df[\"Zipcode\"] = crime_df[\"Zipcode\"].astype(float)"
   ]
  },
  {
   "cell_type": "code",
   "execution_count": null,
   "metadata": {},
   "outputs": [],
   "source": [
    "# Save the file to .csv\n",
    "crime_df.to_csv(\"zip_codes_added\", index = False)"
   ]
  },
  {
   "cell_type": "code",
   "execution_count": null,
   "metadata": {},
   "outputs": [],
   "source": [
    "# Check the amount of null values in the zip code column\n",
    "print(f\"The number of null values is: {crime_df.isna().sum()}\")"
   ]
  },
  {
   "cell_type": "code",
   "execution_count": null,
   "metadata": {},
   "outputs": [],
   "source": [
    "# Read in \"zip_codes_added\" to not run the crime_df[\"Zipcode\"] above again. **Run from here to save time**\n",
    "crime_df = pd.read_csv(\"Resources/zip_codes_added\")"
   ]
  },
  {
   "cell_type": "code",
   "execution_count": null,
   "metadata": {},
   "outputs": [],
   "source": [
    "# Read in the census data for 2018-2021. Note that we will have to get the 2022 census popultation data from another source (the census API)\n",
    "pop_counts = pd.read_csv(\"Resources/Chicago_Population_Counts.csv\")\n",
    "pop_counts"
   ]
  },
  {
   "cell_type": "code",
   "execution_count": null,
   "metadata": {},
   "outputs": [],
   "source": [
    "# Check to see how many null values we have\n",
    "pop_counts.isna().sum()"
   ]
  },
  {
   "cell_type": "code",
   "execution_count": null,
   "metadata": {},
   "outputs": [],
   "source": [
    "# Merge crime DataFrame with population counts by zipcode\n",
    "merged_df = crime_df.merge(pop_counts, on = [\"Zipcode\", \"Year\"], how = \"left\")\n",
    "merged_df"
   ]
  },
  {
   "cell_type": "code",
   "execution_count": null,
   "metadata": {},
   "outputs": [],
   "source": [
    "# See what columns we have\n",
    "merged_df.columns"
   ]
  },
  {
   "cell_type": "code",
   "execution_count": null,
   "metadata": {},
   "outputs": [],
   "source": [
    "# Clean columns to the ones we want\n",
    "crime_cleaned_df = merged_df[[\"Case Number\", \"Date\", \"Block\", \"Primary Type\", \"Description\", \"District\", \"Ward\",\n",
    "                                     \"Year\", \"Latitude\", \"Longitude\", \"Location\", \"Population - Total\", \"Zipcode\"]]\n",
    "crime_cleaned_df"
   ]
  },
  {
   "cell_type": "code",
   "execution_count": null,
   "metadata": {},
   "outputs": [],
   "source": [
    "# Change the name of \"Population - Total\" so it's easier to merge\n",
    "crime_cleaned_df = crime_cleaned_df.rename(columns={\"Population - Total\" : \"Population\"})\n",
    "crime_cleaned_df"
   ]
  },
  {
   "cell_type": "code",
   "execution_count": null,
   "metadata": {},
   "outputs": [],
   "source": [
    "# Check the amount of null values in the merged data frame.  \n",
    "print(f\"The number of null values is: {crime_cleaned_df.isna().sum()}\")"
   ]
  },
  {
   "cell_type": "code",
   "execution_count": null,
   "metadata": {},
   "outputs": [],
   "source": [
    "# See the year the null values are coming from\n",
    "null_population = crime_cleaned_df.loc[crime_cleaned_df[\"Population\"].isnull()]\n",
    "null_population"
   ]
  },
  {
   "cell_type": "code",
   "execution_count": null,
   "metadata": {},
   "outputs": [],
   "source": [
    "# Count the amount of null values per year. Note we have not added population for 2022 yet\n",
    "year_null = null_population[\"Year\"].value_counts()\n",
    "year_null"
   ]
  },
  {
   "cell_type": "code",
   "execution_count": null,
   "metadata": {},
   "outputs": [],
   "source": [
    "# Check the data types of the merged data frame\n",
    "col_types = crime_cleaned_df.dtypes\n",
    "print(col_types)"
   ]
  },
  {
   "cell_type": "code",
   "execution_count": null,
   "metadata": {},
   "outputs": [],
   "source": [
    "# Create an instance of the Census library\n",
    "c = Census(\n",
    "    api_key,\n",
    "    year = 2021\n",
    ")\n"
   ]
  },
  {
   "cell_type": "code",
   "execution_count": null,
   "metadata": {},
   "outputs": [],
   "source": [
    "# Run Census Search to retrieve population data on all zip codes (ACS5 Census). We can then match them up to the crime table later.\n",
    "census_data = c.acs5.get(\n",
    "    (\n",
    "        \"NAME\",\n",
    "        # Estimate of the total population\n",
    "        \"B01003_001E\"\n",
    "    ),\n",
    "    {'for': 'zip code tabulation area:*'}\n",
    ")\n",
    "\n",
    "# Convert to DataFrame\n",
    "census_pd = pd.DataFrame(census_data)\n",
    "\n",
    "# Column renaming\n",
    "census_pd = census_pd.rename(\n",
    "    columns = {\n",
    "        \"B01003_001E\": \"Population\",\n",
    "        \"zip code tabulation area\": \"Zipcode\"\n",
    "    }\n",
    ")\n",
    "\n",
    "# Configure the final DataFrame\n",
    "census_pd = census_pd[\n",
    "    [\n",
    "        \"Population\",\n",
    "        \"Zipcode\" \n",
    "    ]\n",
    "]\n",
    "\n",
    "# Display DataFrame length and sample data\n",
    "print(f\"Number of rows in the DataFrame: {len(census_pd)}\")\n",
    "census_pd.head()"
   ]
  },
  {
   "cell_type": "code",
   "execution_count": null,
   "metadata": {},
   "outputs": [],
   "source": [
    "# Change zipcode from object to integer\n",
    "census_pd[\"Zipcode\"] = census_pd[\"Zipcode\"].astype(int)\n"
   ]
  },
  {
   "cell_type": "code",
   "execution_count": null,
   "metadata": {},
   "outputs": [],
   "source": [
    "# This fills in filling in missing null values with the census data\n",
    "cen_merge_df = pd.merge(crime_cleaned_df[crime_cleaned_df['Population'].isnull()], census_pd, on='Zipcode', how = \"left\")\n",
    "cen_merge_df"
   ]
  },
  {
   "cell_type": "code",
   "execution_count": null,
   "metadata": {},
   "outputs": [],
   "source": [
    "# Rename the column for population and drop unused rows\n",
    "cen_cleaned_df = cen_merge_df[[\"Case Number\", \"Date\", \"Block\", \"Primary Type\", \"Description\", \"District\", \"Ward\",\n",
    "                                     \"Year\", \"Latitude\", \"Longitude\", \"Location\", \"Population_y\", \"Zipcode\"]]\n",
    "cen_cleaned_df = cen_cleaned_df.rename(columns = {\"Population_y\" : \"Population\"})\n",
    "cen_cleaned_df"
   ]
  },
  {
   "cell_type": "code",
   "execution_count": null,
   "metadata": {},
   "outputs": [],
   "source": [
    "# Concatenate cen_cleaned_df and crime_cleaned_df to get the final dataset\n",
    "final_df = pd.concat([crime_cleaned_df, cen_cleaned_df])\n",
    "final_df"
   ]
  },
  {
   "cell_type": "code",
   "execution_count": null,
   "metadata": {},
   "outputs": [],
   "source": [
    "# Drop any remaining null rows\n",
    "final_df = final_df.dropna(how=\"any\")\n",
    "final_df"
   ]
  },
  {
   "cell_type": "code",
   "execution_count": null,
   "metadata": {},
   "outputs": [],
   "source": [
    "# Make sure zip codes are in Chicago\n",
    "sort_zip = final_df[\"Zipcode\"].sort_values().unique()\n",
    "sort_zip"
   ]
  },
  {
   "cell_type": "code",
   "execution_count": null,
   "metadata": {},
   "outputs": [],
   "source": [
    "# This was checked with the Name Census\n",
    "# List of 67 ZIP codes in Chicago, Illinois. Name Census. (n.d.). https://namecensus.com/zip-codes/illinois/city/chicago/ \n",
    "non_chicago_zips = [\n",
    "    46320,\n",
    "    60077,\n",
    "    60171,\n",
    "    60176,\n",
    "    60301,\n",
    "    60302,\n",
    "    60304,\n",
    "    60406,\n",
    "    60419,\n",
    "    60453,\n",
    "    60456, \n",
    "    60459, \n",
    "    60501,\n",
    "    60534, \n",
    "    60712,\n",
    "    60803,\n",
    "    60805,\n",
    "    65692]\n",
    "         "
   ]
  },
  {
   "cell_type": "code",
   "execution_count": null,
   "metadata": {},
   "outputs": [],
   "source": [
    "# Remove the zip codes that are outside of Chicago\n",
    "final_df = final_df[~final_df[\"Zipcode\"].isin(non_chicago_zips)]\n",
    "final_df\n"
   ]
  },
  {
   "cell_type": "code",
   "execution_count": null,
   "metadata": {},
   "outputs": [],
   "source": [
    "final_df.to_csv(\"chicago_crimes_all_cleaned.csv\", index = False)"
   ]
  }
 ],
 "metadata": {
  "kernelspec": {
   "display_name": "base",
   "language": "python",
   "name": "python3"
  },
  "language_info": {
   "codemirror_mode": {
    "name": "ipython",
    "version": 3
   },
   "file_extension": ".py",
   "mimetype": "text/x-python",
   "name": "python",
   "nbconvert_exporter": "python",
   "pygments_lexer": "ipython3",
   "version": "3.10.9"
  },
  "orig_nbformat": 4
 },
 "nbformat": 4,
 "nbformat_minor": 2
}
