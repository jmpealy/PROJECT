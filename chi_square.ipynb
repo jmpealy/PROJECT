{
 "cells": [
  {
   "cell_type": "code",
   "execution_count": 1,
   "metadata": {},
   "outputs": [],
   "source": [
    "from pathlib import Path\n",
    "import pandas as pd\n",
    "import scipy.stats as stats\n",
    "import matplotlib.pyplot as plt\n",
    "import datetime"
   ]
  },
  {
   "cell_type": "code",
   "execution_count": 2,
   "metadata": {},
   "outputs": [
    {
     "data": {
      "text/html": [
       "<div>\n",
       "<style scoped>\n",
       "    .dataframe tbody tr th:only-of-type {\n",
       "        vertical-align: middle;\n",
       "    }\n",
       "\n",
       "    .dataframe tbody tr th {\n",
       "        vertical-align: top;\n",
       "    }\n",
       "\n",
       "    .dataframe thead th {\n",
       "        text-align: right;\n",
       "    }\n",
       "</style>\n",
       "<table border=\"1\" class=\"dataframe\">\n",
       "  <thead>\n",
       "    <tr style=\"text-align: right;\">\n",
       "      <th></th>\n",
       "      <th>Case Number</th>\n",
       "      <th>Date</th>\n",
       "      <th>Block</th>\n",
       "      <th>Primary Type</th>\n",
       "      <th>Description</th>\n",
       "      <th>District</th>\n",
       "      <th>Ward</th>\n",
       "      <th>Year</th>\n",
       "      <th>Latitude</th>\n",
       "      <th>Longitude</th>\n",
       "      <th>Location</th>\n",
       "      <th>Population</th>\n",
       "      <th>Zipcode</th>\n",
       "    </tr>\n",
       "  </thead>\n",
       "  <tbody>\n",
       "    <tr>\n",
       "      <th>0</th>\n",
       "      <td>JC104662</td>\n",
       "      <td>12/31/2018 11:59:00 PM</td>\n",
       "      <td>112XX S SACRAMENTO AVE</td>\n",
       "      <td>MINOR PROPERTY CRIME</td>\n",
       "      <td>TO VEHICLE</td>\n",
       "      <td>22</td>\n",
       "      <td>19.0</td>\n",
       "      <td>2018</td>\n",
       "      <td>41.689079</td>\n",
       "      <td>-87.696064</td>\n",
       "      <td>(41.689078832, -87.696064026)</td>\n",
       "      <td>28804.0</td>\n",
       "      <td>60655.0</td>\n",
       "    </tr>\n",
       "    <tr>\n",
       "      <th>1</th>\n",
       "      <td>JC100043</td>\n",
       "      <td>12/31/2018 11:57:00 PM</td>\n",
       "      <td>084XX S SANGAMON ST</td>\n",
       "      <td>MINOR PROPERTY CRIME</td>\n",
       "      <td>TO PROPERTY</td>\n",
       "      <td>6</td>\n",
       "      <td>21.0</td>\n",
       "      <td>2018</td>\n",
       "      <td>41.740521</td>\n",
       "      <td>-87.647391</td>\n",
       "      <td>(41.740520866, -87.647390719)</td>\n",
       "      <td>68096.0</td>\n",
       "      <td>60620.0</td>\n",
       "    </tr>\n",
       "    <tr>\n",
       "      <th>2</th>\n",
       "      <td>JC100006</td>\n",
       "      <td>12/31/2018 11:56:00 PM</td>\n",
       "      <td>018XX S ALLPORT ST</td>\n",
       "      <td>ASSAULT &amp; BATTERY</td>\n",
       "      <td>AGG: HANDS/FIST/FEET NO/MINOR INJURY</td>\n",
       "      <td>12</td>\n",
       "      <td>25.0</td>\n",
       "      <td>2018</td>\n",
       "      <td>41.857068</td>\n",
       "      <td>-87.657625</td>\n",
       "      <td>(41.857068095, -87.657625201)</td>\n",
       "      <td>79205.0</td>\n",
       "      <td>60608.0</td>\n",
       "    </tr>\n",
       "    <tr>\n",
       "      <th>3</th>\n",
       "      <td>JC100031</td>\n",
       "      <td>12/31/2018 11:55:00 PM</td>\n",
       "      <td>078XX S SANGAMON ST</td>\n",
       "      <td>ASSAULT &amp; BATTERY</td>\n",
       "      <td>DOMESTIC BATTERY SIMPLE</td>\n",
       "      <td>6</td>\n",
       "      <td>17.0</td>\n",
       "      <td>2018</td>\n",
       "      <td>41.751914</td>\n",
       "      <td>-87.647717</td>\n",
       "      <td>(41.75191443, -87.647716532)</td>\n",
       "      <td>68096.0</td>\n",
       "      <td>60620.0</td>\n",
       "    </tr>\n",
       "    <tr>\n",
       "      <th>4</th>\n",
       "      <td>JC100026</td>\n",
       "      <td>12/31/2018 11:49:00 PM</td>\n",
       "      <td>052XX W GLADYS AVE</td>\n",
       "      <td>ASSAULT &amp; BATTERY</td>\n",
       "      <td>AGGRAVATED - HANDGUN</td>\n",
       "      <td>15</td>\n",
       "      <td>29.0</td>\n",
       "      <td>2018</td>\n",
       "      <td>41.875684</td>\n",
       "      <td>-87.760479</td>\n",
       "      <td>(41.87568438, -87.760479356)</td>\n",
       "      <td>47712.0</td>\n",
       "      <td>60644.0</td>\n",
       "    </tr>\n",
       "  </tbody>\n",
       "</table>\n",
       "</div>"
      ],
      "text/plain": [
       "  Case Number                    Date                   Block  \\\n",
       "0    JC104662  12/31/2018 11:59:00 PM  112XX S SACRAMENTO AVE   \n",
       "1    JC100043  12/31/2018 11:57:00 PM     084XX S SANGAMON ST   \n",
       "2    JC100006  12/31/2018 11:56:00 PM      018XX S ALLPORT ST   \n",
       "3    JC100031  12/31/2018 11:55:00 PM     078XX S SANGAMON ST   \n",
       "4    JC100026  12/31/2018 11:49:00 PM      052XX W GLADYS AVE   \n",
       "\n",
       "           Primary Type                           Description  District  Ward  \\\n",
       "0  MINOR PROPERTY CRIME                            TO VEHICLE        22  19.0   \n",
       "1  MINOR PROPERTY CRIME                           TO PROPERTY         6  21.0   \n",
       "2     ASSAULT & BATTERY  AGG: HANDS/FIST/FEET NO/MINOR INJURY        12  25.0   \n",
       "3     ASSAULT & BATTERY               DOMESTIC BATTERY SIMPLE         6  17.0   \n",
       "4     ASSAULT & BATTERY                  AGGRAVATED - HANDGUN        15  29.0   \n",
       "\n",
       "   Year   Latitude  Longitude                       Location  Population  \\\n",
       "0  2018  41.689079 -87.696064  (41.689078832, -87.696064026)     28804.0   \n",
       "1  2018  41.740521 -87.647391  (41.740520866, -87.647390719)     68096.0   \n",
       "2  2018  41.857068 -87.657625  (41.857068095, -87.657625201)     79205.0   \n",
       "3  2018  41.751914 -87.647717   (41.75191443, -87.647716532)     68096.0   \n",
       "4  2018  41.875684 -87.760479   (41.87568438, -87.760479356)     47712.0   \n",
       "\n",
       "   Zipcode  \n",
       "0  60655.0  \n",
       "1  60620.0  \n",
       "2  60608.0  \n",
       "3  60620.0  \n",
       "4  60644.0  "
      ]
     },
     "execution_count": 2,
     "metadata": {},
     "output_type": "execute_result"
    }
   ],
   "source": [
    " # Create a file path \n",
    "url = \"/Users/aileen/Downloads/chicago_crimes_all_cleaned (2).csv\"\n",
    "\n",
    " # Read in the data. \n",
    "crime_data = pd.read_csv(url)\n",
    "crime_data.head()"
   ]
  },
  {
   "cell_type": "code",
   "execution_count": 3,
   "metadata": {},
   "outputs": [
    {
     "data": {
      "text/plain": [
       "22"
      ]
     },
     "execution_count": 3,
     "metadata": {},
     "output_type": "execute_result"
    }
   ],
   "source": [
    "#calculating the total count of districts \n",
    "counts_of_districts = crime_data[\"District\"].nunique()\n",
    "counts_of_districts"
   ]
  },
  {
   "cell_type": "code",
   "execution_count": 6,
   "metadata": {},
   "outputs": [
    {
     "data": {
      "text/plain": [
       "1145670"
      ]
     },
     "execution_count": 6,
     "metadata": {},
     "output_type": "execute_result"
    }
   ],
   "source": [
    "#calculating total crime\n",
    "total_crime = crime_data[\"Primary Type\"].count()\n",
    "total_crime"
   ]
  },
  {
   "cell_type": "code",
   "execution_count": 7,
   "metadata": {},
   "outputs": [
    {
     "data": {
      "text/plain": [
       "District\n",
       "1     59665\n",
       "2     52762\n",
       "3     57296\n",
       "4     63844\n",
       "5     52105\n",
       "6     74703\n",
       "7     59949\n",
       "8     67500\n",
       "9     50039\n",
       "10    53620\n",
       "11    77988\n",
       "12    60084\n",
       "14    39203\n",
       "15    39493\n",
       "16    37940\n",
       "17    30992\n",
       "18    61019\n",
       "19    53373\n",
       "20    21917\n",
       "22    35809\n",
       "24    36947\n",
       "25    59422\n",
       "Name: Primary Type, dtype: int64"
      ]
     },
     "execution_count": 7,
     "metadata": {},
     "output_type": "execute_result"
    }
   ],
   "source": [
    "crime_count_by_district = crime_data.groupby(\"District\")[\"Primary Type\"].count()\n",
    "crime_count_by_district"
   ]
  },
  {
   "cell_type": "code",
   "execution_count": 8,
   "metadata": {},
   "outputs": [
    {
     "data": {
      "text/plain": [
       "52075.90909090909"
      ]
     },
     "execution_count": 8,
     "metadata": {},
     "output_type": "execute_result"
    }
   ],
   "source": [
    "#expected value\n",
    "expected_total = total_crime/22\n",
    "expected_total"
   ]
  },
  {
   "cell_type": "code",
   "execution_count": 9,
   "metadata": {},
   "outputs": [],
   "source": [
    "# Observed counts of crime by district (cumulative, over the last 5 years)\n",
    "observed = pd.Series([59665.00000000000,52762.00000000000,57296.00000000000,63844.00000000000,52105.00000000000,74703.00000000000,59949.00000000000,67500.00000000000,50039.00000000000,53620.00000000000,77988.00000000000,60084.00000000000,39203.00000000000,39493.00000000000,37940.00000000000,30992.00000000000,61019.00000000000,53373.00000000000,21917.00000000000,35809.00000000000,36947.00000000000,59422.00000000000], \n",
    "                     index=['1','2','3','4','5','6','7','8','9','10','11','12','14','15','16','17','18','19','20','22','24','25'])"
   ]
  },
  {
   "cell_type": "code",
   "execution_count": 10,
   "metadata": {},
   "outputs": [],
   "source": [
    "# Create a data frame\n",
    "df = pd.DataFrame([observed]).T"
   ]
  },
  {
   "cell_type": "code",
   "execution_count": 11,
   "metadata": {},
   "outputs": [],
   "source": [
    "# Add a column whose default values are the expected values\n",
    "df[1] = 52075.90909090909"
   ]
  },
  {
   "cell_type": "code",
   "execution_count": 12,
   "metadata": {},
   "outputs": [],
   "source": [
    "# Rename columns\n",
    "df.columns = [\"observed\", \"expected\"]"
   ]
  },
  {
   "cell_type": "code",
   "execution_count": 13,
   "metadata": {},
   "outputs": [
    {
     "data": {
      "text/html": [
       "<div>\n",
       "<style scoped>\n",
       "    .dataframe tbody tr th:only-of-type {\n",
       "        vertical-align: middle;\n",
       "    }\n",
       "\n",
       "    .dataframe tbody tr th {\n",
       "        vertical-align: top;\n",
       "    }\n",
       "\n",
       "    .dataframe thead th {\n",
       "        text-align: right;\n",
       "    }\n",
       "</style>\n",
       "<table border=\"1\" class=\"dataframe\">\n",
       "  <thead>\n",
       "    <tr style=\"text-align: right;\">\n",
       "      <th></th>\n",
       "      <th>observed</th>\n",
       "      <th>expected</th>\n",
       "    </tr>\n",
       "  </thead>\n",
       "  <tbody>\n",
       "    <tr>\n",
       "      <th>1</th>\n",
       "      <td>59665.0</td>\n",
       "      <td>52075.909091</td>\n",
       "    </tr>\n",
       "    <tr>\n",
       "      <th>2</th>\n",
       "      <td>52762.0</td>\n",
       "      <td>52075.909091</td>\n",
       "    </tr>\n",
       "    <tr>\n",
       "      <th>3</th>\n",
       "      <td>57296.0</td>\n",
       "      <td>52075.909091</td>\n",
       "    </tr>\n",
       "    <tr>\n",
       "      <th>4</th>\n",
       "      <td>63844.0</td>\n",
       "      <td>52075.909091</td>\n",
       "    </tr>\n",
       "    <tr>\n",
       "      <th>5</th>\n",
       "      <td>52105.0</td>\n",
       "      <td>52075.909091</td>\n",
       "    </tr>\n",
       "    <tr>\n",
       "      <th>6</th>\n",
       "      <td>74703.0</td>\n",
       "      <td>52075.909091</td>\n",
       "    </tr>\n",
       "    <tr>\n",
       "      <th>7</th>\n",
       "      <td>59949.0</td>\n",
       "      <td>52075.909091</td>\n",
       "    </tr>\n",
       "    <tr>\n",
       "      <th>8</th>\n",
       "      <td>67500.0</td>\n",
       "      <td>52075.909091</td>\n",
       "    </tr>\n",
       "    <tr>\n",
       "      <th>9</th>\n",
       "      <td>50039.0</td>\n",
       "      <td>52075.909091</td>\n",
       "    </tr>\n",
       "    <tr>\n",
       "      <th>10</th>\n",
       "      <td>53620.0</td>\n",
       "      <td>52075.909091</td>\n",
       "    </tr>\n",
       "    <tr>\n",
       "      <th>11</th>\n",
       "      <td>77988.0</td>\n",
       "      <td>52075.909091</td>\n",
       "    </tr>\n",
       "    <tr>\n",
       "      <th>12</th>\n",
       "      <td>60084.0</td>\n",
       "      <td>52075.909091</td>\n",
       "    </tr>\n",
       "    <tr>\n",
       "      <th>14</th>\n",
       "      <td>39203.0</td>\n",
       "      <td>52075.909091</td>\n",
       "    </tr>\n",
       "    <tr>\n",
       "      <th>15</th>\n",
       "      <td>39493.0</td>\n",
       "      <td>52075.909091</td>\n",
       "    </tr>\n",
       "    <tr>\n",
       "      <th>16</th>\n",
       "      <td>37940.0</td>\n",
       "      <td>52075.909091</td>\n",
       "    </tr>\n",
       "    <tr>\n",
       "      <th>17</th>\n",
       "      <td>30992.0</td>\n",
       "      <td>52075.909091</td>\n",
       "    </tr>\n",
       "    <tr>\n",
       "      <th>18</th>\n",
       "      <td>61019.0</td>\n",
       "      <td>52075.909091</td>\n",
       "    </tr>\n",
       "    <tr>\n",
       "      <th>19</th>\n",
       "      <td>53373.0</td>\n",
       "      <td>52075.909091</td>\n",
       "    </tr>\n",
       "    <tr>\n",
       "      <th>20</th>\n",
       "      <td>21917.0</td>\n",
       "      <td>52075.909091</td>\n",
       "    </tr>\n",
       "    <tr>\n",
       "      <th>22</th>\n",
       "      <td>35809.0</td>\n",
       "      <td>52075.909091</td>\n",
       "    </tr>\n",
       "    <tr>\n",
       "      <th>24</th>\n",
       "      <td>36947.0</td>\n",
       "      <td>52075.909091</td>\n",
       "    </tr>\n",
       "    <tr>\n",
       "      <th>25</th>\n",
       "      <td>59422.0</td>\n",
       "      <td>52075.909091</td>\n",
       "    </tr>\n",
       "  </tbody>\n",
       "</table>\n",
       "</div>"
      ],
      "text/plain": [
       "    observed      expected\n",
       "1    59665.0  52075.909091\n",
       "2    52762.0  52075.909091\n",
       "3    57296.0  52075.909091\n",
       "4    63844.0  52075.909091\n",
       "5    52105.0  52075.909091\n",
       "6    74703.0  52075.909091\n",
       "7    59949.0  52075.909091\n",
       "8    67500.0  52075.909091\n",
       "9    50039.0  52075.909091\n",
       "10   53620.0  52075.909091\n",
       "11   77988.0  52075.909091\n",
       "12   60084.0  52075.909091\n",
       "14   39203.0  52075.909091\n",
       "15   39493.0  52075.909091\n",
       "16   37940.0  52075.909091\n",
       "17   30992.0  52075.909091\n",
       "18   61019.0  52075.909091\n",
       "19   53373.0  52075.909091\n",
       "20   21917.0  52075.909091\n",
       "22   35809.0  52075.909091\n",
       "24   36947.0  52075.909091\n",
       "25   59422.0  52075.909091"
      ]
     },
     "execution_count": 13,
     "metadata": {},
     "output_type": "execute_result"
    }
   ],
   "source": [
    "# View the data frame\n",
    "df "
   ]
  },
  {
   "cell_type": "code",
   "execution_count": 14,
   "metadata": {},
   "outputs": [
    {
     "data": {
      "text/plain": [
       "32.670573340917315"
      ]
     },
     "execution_count": 14,
     "metadata": {},
     "output_type": "execute_result"
    }
   ],
   "source": [
    "# The degree of freedom is 22-1 = 21\n",
    "# With a p-value of 0.05, the confidence level is 1.00-0.05 = 0.95.\n",
    "critical_value = stats.chi2.ppf(q = 0.95, df = 21)\n",
    "# The critical value\n",
    "critical_value "
   ]
  },
  {
   "cell_type": "code",
   "execution_count": 15,
   "metadata": {},
   "outputs": [
    {
     "data": {
      "text/plain": [
       "Power_divergenceResult(statistic=82280.93870311696, pvalue=0.0)"
      ]
     },
     "execution_count": 15,
     "metadata": {},
     "output_type": "execute_result"
    }
   ],
   "source": [
    "# Run the chi square test with stats.chisquare()\n",
    "stats.chisquare(df['observed'], df['expected']) "
   ]
  },
  {
   "attachments": {},
   "cell_type": "markdown",
   "metadata": {},
   "source": [
    "Conclusion\n",
    "\n",
    "Since the chi square value of 82,281 exceeds the critical value of 32.67, we conclude that the results are statistically significant."
   ]
  },
  {
   "cell_type": "code",
   "execution_count": 16,
   "metadata": {},
   "outputs": [],
   "source": [
    "#get an array of all years\n",
    "years = crime_data[\"Year\"].unique()"
   ]
  },
  {
   "cell_type": "code",
   "execution_count": 17,
   "metadata": {},
   "outputs": [
    {
     "data": {
      "text/html": [
       "<div>\n",
       "<style scoped>\n",
       "    .dataframe tbody tr th:only-of-type {\n",
       "        vertical-align: middle;\n",
       "    }\n",
       "\n",
       "    .dataframe tbody tr th {\n",
       "        vertical-align: top;\n",
       "    }\n",
       "\n",
       "    .dataframe thead th {\n",
       "        text-align: right;\n",
       "    }\n",
       "</style>\n",
       "<table border=\"1\" class=\"dataframe\">\n",
       "  <thead>\n",
       "    <tr style=\"text-align: right;\">\n",
       "      <th></th>\n",
       "      <th>Case Number</th>\n",
       "      <th>Date</th>\n",
       "      <th>Block</th>\n",
       "      <th>Primary Type</th>\n",
       "      <th>Description</th>\n",
       "      <th>District</th>\n",
       "      <th>Ward</th>\n",
       "      <th>Year</th>\n",
       "      <th>Latitude</th>\n",
       "      <th>Longitude</th>\n",
       "      <th>Location</th>\n",
       "      <th>Population</th>\n",
       "      <th>Zipcode</th>\n",
       "    </tr>\n",
       "  </thead>\n",
       "  <tbody>\n",
       "    <tr>\n",
       "      <th>0</th>\n",
       "      <td>JC104662</td>\n",
       "      <td>12/31/2018 11:59:00 PM</td>\n",
       "      <td>112XX S SACRAMENTO AVE</td>\n",
       "      <td>MINOR PROPERTY CRIME</td>\n",
       "      <td>TO VEHICLE</td>\n",
       "      <td>22</td>\n",
       "      <td>19.0</td>\n",
       "      <td>2018</td>\n",
       "      <td>41.689079</td>\n",
       "      <td>-87.696064</td>\n",
       "      <td>(41.689078832, -87.696064026)</td>\n",
       "      <td>28804.0</td>\n",
       "      <td>60655.0</td>\n",
       "    </tr>\n",
       "    <tr>\n",
       "      <th>1</th>\n",
       "      <td>JC100043</td>\n",
       "      <td>12/31/2018 11:57:00 PM</td>\n",
       "      <td>084XX S SANGAMON ST</td>\n",
       "      <td>MINOR PROPERTY CRIME</td>\n",
       "      <td>TO PROPERTY</td>\n",
       "      <td>6</td>\n",
       "      <td>21.0</td>\n",
       "      <td>2018</td>\n",
       "      <td>41.740521</td>\n",
       "      <td>-87.647391</td>\n",
       "      <td>(41.740520866, -87.647390719)</td>\n",
       "      <td>68096.0</td>\n",
       "      <td>60620.0</td>\n",
       "    </tr>\n",
       "    <tr>\n",
       "      <th>2</th>\n",
       "      <td>JC100006</td>\n",
       "      <td>12/31/2018 11:56:00 PM</td>\n",
       "      <td>018XX S ALLPORT ST</td>\n",
       "      <td>ASSAULT &amp; BATTERY</td>\n",
       "      <td>AGG: HANDS/FIST/FEET NO/MINOR INJURY</td>\n",
       "      <td>12</td>\n",
       "      <td>25.0</td>\n",
       "      <td>2018</td>\n",
       "      <td>41.857068</td>\n",
       "      <td>-87.657625</td>\n",
       "      <td>(41.857068095, -87.657625201)</td>\n",
       "      <td>79205.0</td>\n",
       "      <td>60608.0</td>\n",
       "    </tr>\n",
       "    <tr>\n",
       "      <th>3</th>\n",
       "      <td>JC100031</td>\n",
       "      <td>12/31/2018 11:55:00 PM</td>\n",
       "      <td>078XX S SANGAMON ST</td>\n",
       "      <td>ASSAULT &amp; BATTERY</td>\n",
       "      <td>DOMESTIC BATTERY SIMPLE</td>\n",
       "      <td>6</td>\n",
       "      <td>17.0</td>\n",
       "      <td>2018</td>\n",
       "      <td>41.751914</td>\n",
       "      <td>-87.647717</td>\n",
       "      <td>(41.75191443, -87.647716532)</td>\n",
       "      <td>68096.0</td>\n",
       "      <td>60620.0</td>\n",
       "    </tr>\n",
       "    <tr>\n",
       "      <th>4</th>\n",
       "      <td>JC100026</td>\n",
       "      <td>12/31/2018 11:49:00 PM</td>\n",
       "      <td>052XX W GLADYS AVE</td>\n",
       "      <td>ASSAULT &amp; BATTERY</td>\n",
       "      <td>AGGRAVATED - HANDGUN</td>\n",
       "      <td>15</td>\n",
       "      <td>29.0</td>\n",
       "      <td>2018</td>\n",
       "      <td>41.875684</td>\n",
       "      <td>-87.760479</td>\n",
       "      <td>(41.87568438, -87.760479356)</td>\n",
       "      <td>47712.0</td>\n",
       "      <td>60644.0</td>\n",
       "    </tr>\n",
       "    <tr>\n",
       "      <th>...</th>\n",
       "      <td>...</td>\n",
       "      <td>...</td>\n",
       "      <td>...</td>\n",
       "      <td>...</td>\n",
       "      <td>...</td>\n",
       "      <td>...</td>\n",
       "      <td>...</td>\n",
       "      <td>...</td>\n",
       "      <td>...</td>\n",
       "      <td>...</td>\n",
       "      <td>...</td>\n",
       "      <td>...</td>\n",
       "      <td>...</td>\n",
       "    </tr>\n",
       "    <tr>\n",
       "      <th>894540</th>\n",
       "      <td>JB115033</td>\n",
       "      <td>01/02/2018 11:00:00 AM</td>\n",
       "      <td>064XX W ADDISON ST</td>\n",
       "      <td>THEFT (ALL TYPES)</td>\n",
       "      <td>OVER $500</td>\n",
       "      <td>16</td>\n",
       "      <td>36.0</td>\n",
       "      <td>2018</td>\n",
       "      <td>41.945654</td>\n",
       "      <td>-87.786853</td>\n",
       "      <td>(41.945653748, -87.786852586)</td>\n",
       "      <td>24272.0</td>\n",
       "      <td>60706.0</td>\n",
       "    </tr>\n",
       "    <tr>\n",
       "      <th>894541</th>\n",
       "      <td>JB101356</td>\n",
       "      <td>01/02/2018 08:05:00 AM</td>\n",
       "      <td>051XX N NORMANDY AVE</td>\n",
       "      <td>ASSAULT &amp; BATTERY</td>\n",
       "      <td>SIMPLE</td>\n",
       "      <td>16</td>\n",
       "      <td>41.0</td>\n",
       "      <td>2018</td>\n",
       "      <td>41.974559</td>\n",
       "      <td>-87.793957</td>\n",
       "      <td>(41.974559221, -87.793956917)</td>\n",
       "      <td>24272.0</td>\n",
       "      <td>60706.0</td>\n",
       "    </tr>\n",
       "    <tr>\n",
       "      <th>894542</th>\n",
       "      <td>JB101127</td>\n",
       "      <td>01/01/2018 10:30:00 PM</td>\n",
       "      <td>062XX W CORNELIA AVE</td>\n",
       "      <td>OTHER MINOR CRIMES</td>\n",
       "      <td>HARASSMENT BY ELECTRONIC MEANS</td>\n",
       "      <td>16</td>\n",
       "      <td>36.0</td>\n",
       "      <td>2018</td>\n",
       "      <td>41.943873</td>\n",
       "      <td>-87.782380</td>\n",
       "      <td>(41.943873325, -87.782379691)</td>\n",
       "      <td>24272.0</td>\n",
       "      <td>60706.0</td>\n",
       "    </tr>\n",
       "    <tr>\n",
       "      <th>894543</th>\n",
       "      <td>JB100762</td>\n",
       "      <td>01/01/2018 12:00:00 PM</td>\n",
       "      <td>063XX W WAVELAND AVE</td>\n",
       "      <td>OTHER MINOR CRIMES</td>\n",
       "      <td>HARASSMENT BY ELECTRONIC MEANS</td>\n",
       "      <td>16</td>\n",
       "      <td>38.0</td>\n",
       "      <td>2018</td>\n",
       "      <td>41.947501</td>\n",
       "      <td>-87.784668</td>\n",
       "      <td>(41.947501166, -87.784667989)</td>\n",
       "      <td>24272.0</td>\n",
       "      <td>60706.0</td>\n",
       "    </tr>\n",
       "    <tr>\n",
       "      <th>894544</th>\n",
       "      <td>JB104090</td>\n",
       "      <td>01/01/2018 11:30:00 AM</td>\n",
       "      <td>100XX W OHARE ST</td>\n",
       "      <td>THEFT (ALL TYPES)</td>\n",
       "      <td>OVER $500</td>\n",
       "      <td>16</td>\n",
       "      <td>41.0</td>\n",
       "      <td>2018</td>\n",
       "      <td>41.976290</td>\n",
       "      <td>-87.905227</td>\n",
       "      <td>(41.976290414, -87.905227221)</td>\n",
       "      <td>20694.0</td>\n",
       "      <td>60106.0</td>\n",
       "    </tr>\n",
       "  </tbody>\n",
       "</table>\n",
       "<p>258966 rows × 13 columns</p>\n",
       "</div>"
      ],
      "text/plain": [
       "       Case Number                    Date                   Block  \\\n",
       "0         JC104662  12/31/2018 11:59:00 PM  112XX S SACRAMENTO AVE   \n",
       "1         JC100043  12/31/2018 11:57:00 PM     084XX S SANGAMON ST   \n",
       "2         JC100006  12/31/2018 11:56:00 PM      018XX S ALLPORT ST   \n",
       "3         JC100031  12/31/2018 11:55:00 PM     078XX S SANGAMON ST   \n",
       "4         JC100026  12/31/2018 11:49:00 PM      052XX W GLADYS AVE   \n",
       "...            ...                     ...                     ...   \n",
       "894540    JB115033  01/02/2018 11:00:00 AM      064XX W ADDISON ST   \n",
       "894541    JB101356  01/02/2018 08:05:00 AM    051XX N NORMANDY AVE   \n",
       "894542    JB101127  01/01/2018 10:30:00 PM    062XX W CORNELIA AVE   \n",
       "894543    JB100762  01/01/2018 12:00:00 PM    063XX W WAVELAND AVE   \n",
       "894544    JB104090  01/01/2018 11:30:00 AM        100XX W OHARE ST   \n",
       "\n",
       "                Primary Type                           Description  District  \\\n",
       "0       MINOR PROPERTY CRIME                            TO VEHICLE        22   \n",
       "1       MINOR PROPERTY CRIME                           TO PROPERTY         6   \n",
       "2          ASSAULT & BATTERY  AGG: HANDS/FIST/FEET NO/MINOR INJURY        12   \n",
       "3          ASSAULT & BATTERY               DOMESTIC BATTERY SIMPLE         6   \n",
       "4          ASSAULT & BATTERY                  AGGRAVATED - HANDGUN        15   \n",
       "...                      ...                                   ...       ...   \n",
       "894540     THEFT (ALL TYPES)                             OVER $500        16   \n",
       "894541     ASSAULT & BATTERY                                SIMPLE        16   \n",
       "894542    OTHER MINOR CRIMES        HARASSMENT BY ELECTRONIC MEANS        16   \n",
       "894543    OTHER MINOR CRIMES        HARASSMENT BY ELECTRONIC MEANS        16   \n",
       "894544     THEFT (ALL TYPES)                             OVER $500        16   \n",
       "\n",
       "        Ward  Year   Latitude  Longitude                       Location  \\\n",
       "0       19.0  2018  41.689079 -87.696064  (41.689078832, -87.696064026)   \n",
       "1       21.0  2018  41.740521 -87.647391  (41.740520866, -87.647390719)   \n",
       "2       25.0  2018  41.857068 -87.657625  (41.857068095, -87.657625201)   \n",
       "3       17.0  2018  41.751914 -87.647717   (41.75191443, -87.647716532)   \n",
       "4       29.0  2018  41.875684 -87.760479   (41.87568438, -87.760479356)   \n",
       "...      ...   ...        ...        ...                            ...   \n",
       "894540  36.0  2018  41.945654 -87.786853  (41.945653748, -87.786852586)   \n",
       "894541  41.0  2018  41.974559 -87.793957  (41.974559221, -87.793956917)   \n",
       "894542  36.0  2018  41.943873 -87.782380  (41.943873325, -87.782379691)   \n",
       "894543  38.0  2018  41.947501 -87.784668  (41.947501166, -87.784667989)   \n",
       "894544  41.0  2018  41.976290 -87.905227  (41.976290414, -87.905227221)   \n",
       "\n",
       "        Population  Zipcode  \n",
       "0          28804.0  60655.0  \n",
       "1          68096.0  60620.0  \n",
       "2          79205.0  60608.0  \n",
       "3          68096.0  60620.0  \n",
       "4          47712.0  60644.0  \n",
       "...            ...      ...  \n",
       "894540     24272.0  60706.0  \n",
       "894541     24272.0  60706.0  \n",
       "894542     24272.0  60706.0  \n",
       "894543     24272.0  60706.0  \n",
       "894544     20694.0  60106.0  \n",
       "\n",
       "[258966 rows x 13 columns]"
      ]
     },
     "execution_count": 17,
     "metadata": {},
     "output_type": "execute_result"
    }
   ],
   "source": [
    "# Split data file into years\n",
    "df_2018 = crime_data[crime_data[\"Year\"]==2018]\n",
    "df_2019 = crime_data[crime_data[\"Year\"]==2019]\n",
    "df_2020 = crime_data[crime_data[\"Year\"]==2020]\n",
    "df_2021 = crime_data[crime_data[\"Year\"]==2021]\n",
    "df_2022 = crime_data[crime_data[\"Year\"]==2022]\n",
    "df_2018"
   ]
  },
  {
   "cell_type": "code",
   "execution_count": 18,
   "metadata": {},
   "outputs": [],
   "source": [
    "# Create a data frame of population from year to year, noting that zip codes repeat, thus creating repeated population counts,\n",
    "# since we pulled population based on zip code. So, we groupby unique zip code, get the population for each zip code, and sum by population,\n",
    "# then by population across all zip codes for one year\n",
    "population = [df_2018.groupby(\"Zipcode\")[\"Population\"].unique().sum().sum(),\n",
    "              df_2019.groupby(\"Zipcode\")[\"Population\"].unique().sum().sum(),\n",
    "              df_2020.groupby(\"Zipcode\")[\"Population\"].unique().sum().sum(),\n",
    "              df_2021.groupby(\"Zipcode\")[\"Population\"].unique().sum().sum(),\n",
    "              df_2022.groupby(\"Zipcode\")[\"Population\"].unique().sum().sum()]\n"
   ]
  },
  {
   "cell_type": "code",
   "execution_count": 19,
   "metadata": {},
   "outputs": [
    {
     "data": {
      "text/html": [
       "<div>\n",
       "<style scoped>\n",
       "    .dataframe tbody tr th:only-of-type {\n",
       "        vertical-align: middle;\n",
       "    }\n",
       "\n",
       "    .dataframe tbody tr th {\n",
       "        vertical-align: top;\n",
       "    }\n",
       "\n",
       "    .dataframe thead th {\n",
       "        text-align: right;\n",
       "    }\n",
       "</style>\n",
       "<table border=\"1\" class=\"dataframe\">\n",
       "  <thead>\n",
       "    <tr style=\"text-align: right;\">\n",
       "      <th></th>\n",
       "      <th>Year</th>\n",
       "      <th>Total Crime</th>\n",
       "    </tr>\n",
       "  </thead>\n",
       "  <tbody>\n",
       "    <tr>\n",
       "      <th>0</th>\n",
       "      <td>2018</td>\n",
       "      <td>258966</td>\n",
       "    </tr>\n",
       "    <tr>\n",
       "      <th>1</th>\n",
       "      <td>2019</td>\n",
       "      <td>254518</td>\n",
       "    </tr>\n",
       "    <tr>\n",
       "      <th>2</th>\n",
       "      <td>2020</td>\n",
       "      <td>204271</td>\n",
       "    </tr>\n",
       "    <tr>\n",
       "      <th>3</th>\n",
       "      <td>2021</td>\n",
       "      <td>199060</td>\n",
       "    </tr>\n",
       "    <tr>\n",
       "      <th>4</th>\n",
       "      <td>2022</td>\n",
       "      <td>228855</td>\n",
       "    </tr>\n",
       "  </tbody>\n",
       "</table>\n",
       "</div>"
      ],
      "text/plain": [
       "   Year  Total Crime\n",
       "0  2018       258966\n",
       "1  2019       254518\n",
       "2  2020       204271\n",
       "3  2021       199060\n",
       "4  2022       228855"
      ]
     },
     "execution_count": 19,
     "metadata": {},
     "output_type": "execute_result"
    }
   ],
   "source": [
    "# Look at types of crime per capita on the year level\n",
    "# Count total crimes by crime type per year\n",
    "year_crime_cnt = crime_data.groupby(\"Year\")[\"Primary Type\"].count()\n",
    "year_crime_cnt\n",
    "\n",
    "# Put it in a dataframe\n",
    "crime_by_year = pd.DataFrame({\"Year\" : year_crime_cnt.index, \"Total Crime\" : year_crime_cnt.values})\n",
    "crime_by_year"
   ]
  },
  {
   "cell_type": "code",
   "execution_count": 20,
   "metadata": {},
   "outputs": [
    {
     "data": {
      "text/plain": [
       "258966"
      ]
     },
     "execution_count": 20,
     "metadata": {},
     "output_type": "execute_result"
    }
   ],
   "source": [
    "#total number of unique crime\n",
    "crime_2018 = df_2018[\"Primary Type\"].count()\n",
    "crime_2018"
   ]
  },
  {
   "cell_type": "code",
   "execution_count": 21,
   "metadata": {},
   "outputs": [
    {
     "data": {
      "text/plain": [
       "District\n",
       "1     15249\n",
       "2     11608\n",
       "3     11926\n",
       "4     13569\n",
       "5     11775\n",
       "6     16272\n",
       "7     14124\n",
       "8     15203\n",
       "9     10874\n",
       "10    12480\n",
       "11    18817\n",
       "12    12818\n",
       "14     9151\n",
       "15     8778\n",
       "16     7945\n",
       "17     7201\n",
       "18    15829\n",
       "19    11930\n",
       "20     4836\n",
       "22     7887\n",
       "24     7546\n",
       "25    13148\n",
       "Name: Primary Type, dtype: int64"
      ]
     },
     "execution_count": 21,
     "metadata": {},
     "output_type": "execute_result"
    }
   ],
   "source": [
    "#crime by district\n",
    "crime_by_district_2018 = df_2018.groupby(\"District\")[\"Primary Type\"].count()\n",
    "crime_by_district_2018"
   ]
  },
  {
   "cell_type": "code",
   "execution_count": 22,
   "metadata": {},
   "outputs": [
    {
     "data": {
      "text/plain": [
       "11771.181818181818"
      ]
     },
     "execution_count": 22,
     "metadata": {},
     "output_type": "execute_result"
    }
   ],
   "source": [
    "#expected value\n",
    "expected_2018 = crime_2018/22\n",
    "expected_2018"
   ]
  },
  {
   "cell_type": "code",
   "execution_count": 23,
   "metadata": {},
   "outputs": [],
   "source": [
    "# Observed counts of crime by district\n",
    "observed_2018 = pd.Series([15249.000000000000,11608.000000000000,11926.000000000000,13569.000000000000,11775.000000000000,16272.000000000000,14124.000000000000,15203.000000000000,10874.000000000000,12480.000000000000,18817.000000000000,12818.000000000000,9151.000000000000,8778.000000000000,7945.000000000000,7201.000000000000,15829.000000000000,11930.000000000000,4836.000000000000,7887.000000000000,7546.000000000000,13148.000000000000], \n",
    "                     index=['1','2','3','4','5','6','7','8','9','10','11','12','14','15','16','17','18','19','20','22','24','25'])"
   ]
  },
  {
   "cell_type": "code",
   "execution_count": 24,
   "metadata": {},
   "outputs": [],
   "source": [
    "# Create a data frame\n",
    "chi_2018 = pd.DataFrame([observed_2018]).T"
   ]
  },
  {
   "cell_type": "code",
   "execution_count": 25,
   "metadata": {},
   "outputs": [],
   "source": [
    " # Add a column whose default values are the expected values\n",
    "chi_2018[1] = 11771.181818181818"
   ]
  },
  {
   "cell_type": "code",
   "execution_count": 26,
   "metadata": {},
   "outputs": [],
   "source": [
    "# Rename columns\n",
    "chi_2018.columns = [\"observed\", \"expected\"]"
   ]
  },
  {
   "cell_type": "code",
   "execution_count": 27,
   "metadata": {},
   "outputs": [
    {
     "data": {
      "text/html": [
       "<div>\n",
       "<style scoped>\n",
       "    .dataframe tbody tr th:only-of-type {\n",
       "        vertical-align: middle;\n",
       "    }\n",
       "\n",
       "    .dataframe tbody tr th {\n",
       "        vertical-align: top;\n",
       "    }\n",
       "\n",
       "    .dataframe thead th {\n",
       "        text-align: right;\n",
       "    }\n",
       "</style>\n",
       "<table border=\"1\" class=\"dataframe\">\n",
       "  <thead>\n",
       "    <tr style=\"text-align: right;\">\n",
       "      <th></th>\n",
       "      <th>observed</th>\n",
       "      <th>expected</th>\n",
       "    </tr>\n",
       "  </thead>\n",
       "  <tbody>\n",
       "    <tr>\n",
       "      <th>1</th>\n",
       "      <td>15249.0</td>\n",
       "      <td>11771.181818</td>\n",
       "    </tr>\n",
       "    <tr>\n",
       "      <th>2</th>\n",
       "      <td>11608.0</td>\n",
       "      <td>11771.181818</td>\n",
       "    </tr>\n",
       "    <tr>\n",
       "      <th>3</th>\n",
       "      <td>11926.0</td>\n",
       "      <td>11771.181818</td>\n",
       "    </tr>\n",
       "    <tr>\n",
       "      <th>4</th>\n",
       "      <td>13569.0</td>\n",
       "      <td>11771.181818</td>\n",
       "    </tr>\n",
       "    <tr>\n",
       "      <th>5</th>\n",
       "      <td>11775.0</td>\n",
       "      <td>11771.181818</td>\n",
       "    </tr>\n",
       "    <tr>\n",
       "      <th>6</th>\n",
       "      <td>16272.0</td>\n",
       "      <td>11771.181818</td>\n",
       "    </tr>\n",
       "    <tr>\n",
       "      <th>7</th>\n",
       "      <td>14124.0</td>\n",
       "      <td>11771.181818</td>\n",
       "    </tr>\n",
       "    <tr>\n",
       "      <th>8</th>\n",
       "      <td>15203.0</td>\n",
       "      <td>11771.181818</td>\n",
       "    </tr>\n",
       "    <tr>\n",
       "      <th>9</th>\n",
       "      <td>10874.0</td>\n",
       "      <td>11771.181818</td>\n",
       "    </tr>\n",
       "    <tr>\n",
       "      <th>10</th>\n",
       "      <td>12480.0</td>\n",
       "      <td>11771.181818</td>\n",
       "    </tr>\n",
       "    <tr>\n",
       "      <th>11</th>\n",
       "      <td>18817.0</td>\n",
       "      <td>11771.181818</td>\n",
       "    </tr>\n",
       "    <tr>\n",
       "      <th>12</th>\n",
       "      <td>12818.0</td>\n",
       "      <td>11771.181818</td>\n",
       "    </tr>\n",
       "    <tr>\n",
       "      <th>14</th>\n",
       "      <td>9151.0</td>\n",
       "      <td>11771.181818</td>\n",
       "    </tr>\n",
       "    <tr>\n",
       "      <th>15</th>\n",
       "      <td>8778.0</td>\n",
       "      <td>11771.181818</td>\n",
       "    </tr>\n",
       "    <tr>\n",
       "      <th>16</th>\n",
       "      <td>7945.0</td>\n",
       "      <td>11771.181818</td>\n",
       "    </tr>\n",
       "    <tr>\n",
       "      <th>17</th>\n",
       "      <td>7201.0</td>\n",
       "      <td>11771.181818</td>\n",
       "    </tr>\n",
       "    <tr>\n",
       "      <th>18</th>\n",
       "      <td>15829.0</td>\n",
       "      <td>11771.181818</td>\n",
       "    </tr>\n",
       "    <tr>\n",
       "      <th>19</th>\n",
       "      <td>11930.0</td>\n",
       "      <td>11771.181818</td>\n",
       "    </tr>\n",
       "    <tr>\n",
       "      <th>20</th>\n",
       "      <td>4836.0</td>\n",
       "      <td>11771.181818</td>\n",
       "    </tr>\n",
       "    <tr>\n",
       "      <th>22</th>\n",
       "      <td>7887.0</td>\n",
       "      <td>11771.181818</td>\n",
       "    </tr>\n",
       "    <tr>\n",
       "      <th>24</th>\n",
       "      <td>7546.0</td>\n",
       "      <td>11771.181818</td>\n",
       "    </tr>\n",
       "    <tr>\n",
       "      <th>25</th>\n",
       "      <td>13148.0</td>\n",
       "      <td>11771.181818</td>\n",
       "    </tr>\n",
       "  </tbody>\n",
       "</table>\n",
       "</div>"
      ],
      "text/plain": [
       "    observed      expected\n",
       "1    15249.0  11771.181818\n",
       "2    11608.0  11771.181818\n",
       "3    11926.0  11771.181818\n",
       "4    13569.0  11771.181818\n",
       "5    11775.0  11771.181818\n",
       "6    16272.0  11771.181818\n",
       "7    14124.0  11771.181818\n",
       "8    15203.0  11771.181818\n",
       "9    10874.0  11771.181818\n",
       "10   12480.0  11771.181818\n",
       "11   18817.0  11771.181818\n",
       "12   12818.0  11771.181818\n",
       "14    9151.0  11771.181818\n",
       "15    8778.0  11771.181818\n",
       "16    7945.0  11771.181818\n",
       "17    7201.0  11771.181818\n",
       "18   15829.0  11771.181818\n",
       "19   11930.0  11771.181818\n",
       "20    4836.0  11771.181818\n",
       "22    7887.0  11771.181818\n",
       "24    7546.0  11771.181818\n",
       "25   13148.0  11771.181818"
      ]
     },
     "execution_count": 27,
     "metadata": {},
     "output_type": "execute_result"
    }
   ],
   "source": [
    "# View the data frame\n",
    "chi_2018"
   ]
  },
  {
   "cell_type": "code",
   "execution_count": 28,
   "metadata": {},
   "outputs": [
    {
     "data": {
      "text/plain": [
       "Power_divergenceResult(statistic=21728.357884818855, pvalue=0.0)"
      ]
     },
     "execution_count": 28,
     "metadata": {},
     "output_type": "execute_result"
    }
   ],
   "source": [
    "# Run the chi square test with stats.chisquare()\n",
    "stats.chisquare(chi_2018['observed'], chi_2018['expected'])"
   ]
  },
  {
   "attachments": {},
   "cell_type": "markdown",
   "metadata": {},
   "source": [
    "Conclusion\n",
    "\n",
    "Since the chi square value of 21,728 exceeds the critical value of 32.67, we conclude that the results are statistically significant."
   ]
  },
  {
   "cell_type": "code",
   "execution_count": 29,
   "metadata": {},
   "outputs": [
    {
     "data": {
      "text/plain": [
       "254518"
      ]
     },
     "execution_count": 29,
     "metadata": {},
     "output_type": "execute_result"
    }
   ],
   "source": [
    "#total number of unique crime\n",
    "crime_2019 = df_2019[\"Primary Type\"].count()\n",
    "crime_2019"
   ]
  },
  {
   "cell_type": "code",
   "execution_count": 30,
   "metadata": {},
   "outputs": [
    {
     "data": {
      "text/plain": [
       "District\n",
       "1     15002\n",
       "2     11072\n",
       "3     12404\n",
       "4     13518\n",
       "5     11274\n",
       "6     16755\n",
       "7     13674\n",
       "8     14598\n",
       "9     10934\n",
       "10    12413\n",
       "11    18597\n",
       "12    12960\n",
       "14     9106\n",
       "15     8867\n",
       "16     7710\n",
       "17     6440\n",
       "18    14919\n",
       "19    11531\n",
       "20     4284\n",
       "22     7745\n",
       "24     7874\n",
       "25    12841\n",
       "Name: Primary Type, dtype: int64"
      ]
     },
     "execution_count": 30,
     "metadata": {},
     "output_type": "execute_result"
    }
   ],
   "source": [
    "#crime by district\n",
    "crime_by_district_2019 = df_2019.groupby(\"District\")[\"Primary Type\"].count()\n",
    "crime_by_district_2019"
   ]
  },
  {
   "cell_type": "code",
   "execution_count": 31,
   "metadata": {},
   "outputs": [
    {
     "data": {
      "text/plain": [
       "11569.0"
      ]
     },
     "execution_count": 31,
     "metadata": {},
     "output_type": "execute_result"
    }
   ],
   "source": [
    "#expected value\n",
    "expected_2019 = crime_2019/22\n",
    "expected_2019"
   ]
  },
  {
   "cell_type": "code",
   "execution_count": 32,
   "metadata": {},
   "outputs": [],
   "source": [
    "# Observed counts of crime by district\n",
    "observed_2019 = pd.Series([15002, 11072,12404,13518,11274,16755,13674,14598,10934,12413,18597,12960,9106,8867,7710,6440,14919,11531,4284,7745,7874,12841], \n",
    "                     index=['1','2','3','4','5','6','7','8','9','10','11','12','14','15','16','17','18','19','20','22','24','25'])"
   ]
  },
  {
   "cell_type": "code",
   "execution_count": 33,
   "metadata": {},
   "outputs": [],
   "source": [
    "# Create a data frame\n",
    "chi_2019 = pd.DataFrame([observed_2019]).T"
   ]
  },
  {
   "cell_type": "code",
   "execution_count": 34,
   "metadata": {},
   "outputs": [],
   "source": [
    " # Add a column whose default values are the expected values\n",
    "chi_2019[1] = 11569"
   ]
  },
  {
   "cell_type": "code",
   "execution_count": 35,
   "metadata": {},
   "outputs": [],
   "source": [
    "# Rename columns\n",
    "chi_2019.columns = [\"observed\", \"expected\"]"
   ]
  },
  {
   "cell_type": "code",
   "execution_count": 37,
   "metadata": {},
   "outputs": [
    {
     "data": {
      "text/html": [
       "<div>\n",
       "<style scoped>\n",
       "    .dataframe tbody tr th:only-of-type {\n",
       "        vertical-align: middle;\n",
       "    }\n",
       "\n",
       "    .dataframe tbody tr th {\n",
       "        vertical-align: top;\n",
       "    }\n",
       "\n",
       "    .dataframe thead th {\n",
       "        text-align: right;\n",
       "    }\n",
       "</style>\n",
       "<table border=\"1\" class=\"dataframe\">\n",
       "  <thead>\n",
       "    <tr style=\"text-align: right;\">\n",
       "      <th></th>\n",
       "      <th>observed</th>\n",
       "      <th>expected</th>\n",
       "    </tr>\n",
       "  </thead>\n",
       "  <tbody>\n",
       "    <tr>\n",
       "      <th>1</th>\n",
       "      <td>15002</td>\n",
       "      <td>11569</td>\n",
       "    </tr>\n",
       "    <tr>\n",
       "      <th>2</th>\n",
       "      <td>11072</td>\n",
       "      <td>11569</td>\n",
       "    </tr>\n",
       "    <tr>\n",
       "      <th>3</th>\n",
       "      <td>12404</td>\n",
       "      <td>11569</td>\n",
       "    </tr>\n",
       "    <tr>\n",
       "      <th>4</th>\n",
       "      <td>13518</td>\n",
       "      <td>11569</td>\n",
       "    </tr>\n",
       "    <tr>\n",
       "      <th>5</th>\n",
       "      <td>11274</td>\n",
       "      <td>11569</td>\n",
       "    </tr>\n",
       "    <tr>\n",
       "      <th>6</th>\n",
       "      <td>16755</td>\n",
       "      <td>11569</td>\n",
       "    </tr>\n",
       "    <tr>\n",
       "      <th>7</th>\n",
       "      <td>13674</td>\n",
       "      <td>11569</td>\n",
       "    </tr>\n",
       "    <tr>\n",
       "      <th>8</th>\n",
       "      <td>14598</td>\n",
       "      <td>11569</td>\n",
       "    </tr>\n",
       "    <tr>\n",
       "      <th>9</th>\n",
       "      <td>10934</td>\n",
       "      <td>11569</td>\n",
       "    </tr>\n",
       "    <tr>\n",
       "      <th>10</th>\n",
       "      <td>12413</td>\n",
       "      <td>11569</td>\n",
       "    </tr>\n",
       "    <tr>\n",
       "      <th>11</th>\n",
       "      <td>18597</td>\n",
       "      <td>11569</td>\n",
       "    </tr>\n",
       "    <tr>\n",
       "      <th>12</th>\n",
       "      <td>12960</td>\n",
       "      <td>11569</td>\n",
       "    </tr>\n",
       "    <tr>\n",
       "      <th>14</th>\n",
       "      <td>9106</td>\n",
       "      <td>11569</td>\n",
       "    </tr>\n",
       "    <tr>\n",
       "      <th>15</th>\n",
       "      <td>8867</td>\n",
       "      <td>11569</td>\n",
       "    </tr>\n",
       "    <tr>\n",
       "      <th>16</th>\n",
       "      <td>7710</td>\n",
       "      <td>11569</td>\n",
       "    </tr>\n",
       "    <tr>\n",
       "      <th>17</th>\n",
       "      <td>6440</td>\n",
       "      <td>11569</td>\n",
       "    </tr>\n",
       "    <tr>\n",
       "      <th>18</th>\n",
       "      <td>14919</td>\n",
       "      <td>11569</td>\n",
       "    </tr>\n",
       "    <tr>\n",
       "      <th>19</th>\n",
       "      <td>11531</td>\n",
       "      <td>11569</td>\n",
       "    </tr>\n",
       "    <tr>\n",
       "      <th>20</th>\n",
       "      <td>4284</td>\n",
       "      <td>11569</td>\n",
       "    </tr>\n",
       "    <tr>\n",
       "      <th>22</th>\n",
       "      <td>7745</td>\n",
       "      <td>11569</td>\n",
       "    </tr>\n",
       "    <tr>\n",
       "      <th>24</th>\n",
       "      <td>7874</td>\n",
       "      <td>11569</td>\n",
       "    </tr>\n",
       "    <tr>\n",
       "      <th>25</th>\n",
       "      <td>12841</td>\n",
       "      <td>11569</td>\n",
       "    </tr>\n",
       "  </tbody>\n",
       "</table>\n",
       "</div>"
      ],
      "text/plain": [
       "    observed  expected\n",
       "1      15002     11569\n",
       "2      11072     11569\n",
       "3      12404     11569\n",
       "4      13518     11569\n",
       "5      11274     11569\n",
       "6      16755     11569\n",
       "7      13674     11569\n",
       "8      14598     11569\n",
       "9      10934     11569\n",
       "10     12413     11569\n",
       "11     18597     11569\n",
       "12     12960     11569\n",
       "14      9106     11569\n",
       "15      8867     11569\n",
       "16      7710     11569\n",
       "17      6440     11569\n",
       "18     14919     11569\n",
       "19     11531     11569\n",
       "20      4284     11569\n",
       "22      7745     11569\n",
       "24      7874     11569\n",
       "25     12841     11569"
      ]
     },
     "execution_count": 37,
     "metadata": {},
     "output_type": "execute_result"
    }
   ],
   "source": [
    "# View the data frame\n",
    "chi_2019"
   ]
  },
  {
   "cell_type": "code",
   "execution_count": 38,
   "metadata": {},
   "outputs": [
    {
     "data": {
      "text/plain": [
       "Power_divergenceResult(statistic=22328.108393119543, pvalue=0.0)"
      ]
     },
     "execution_count": 38,
     "metadata": {},
     "output_type": "execute_result"
    }
   ],
   "source": [
    "# Run the chi square test with stats.chisquare()\n",
    "stats.chisquare(chi_2019['observed'], chi_2019['expected'])"
   ]
  },
  {
   "attachments": {},
   "cell_type": "markdown",
   "metadata": {},
   "source": [
    "Conclusion\n",
    "\n",
    "Since the chi square value of 22,328 exceeds the critical value of 32.67, we conclude that the results are statistically significant."
   ]
  },
  {
   "cell_type": "code",
   "execution_count": 39,
   "metadata": {},
   "outputs": [
    {
     "data": {
      "text/plain": [
       "204271"
      ]
     },
     "execution_count": 39,
     "metadata": {},
     "output_type": "execute_result"
    }
   ],
   "source": [
    "#total number of unique crime\n",
    "crime_2020 = df_2020[\"Primary Type\"].count()\n",
    "crime_2020"
   ]
  },
  {
   "cell_type": "code",
   "execution_count": 40,
   "metadata": {},
   "outputs": [
    {
     "data": {
      "text/plain": [
       "District\n",
       "1      8150\n",
       "2      9270\n",
       "3     10869\n",
       "4     11711\n",
       "5     10067\n",
       "6     13902\n",
       "7     11648\n",
       "8     12178\n",
       "9      9105\n",
       "10     9994\n",
       "11    14780\n",
       "12     9886\n",
       "14     6455\n",
       "15     7813\n",
       "16     7024\n",
       "17     5566\n",
       "18     8555\n",
       "19     8977\n",
       "20     3930\n",
       "22     6628\n",
       "24     6621\n",
       "25    11142\n",
       "Name: Primary Type, dtype: int64"
      ]
     },
     "execution_count": 40,
     "metadata": {},
     "output_type": "execute_result"
    }
   ],
   "source": [
    "#crime by district\n",
    "crime_by_district_2020 = df_2020.groupby(\"District\")[\"Primary Type\"].count()\n",
    "crime_by_district_2020"
   ]
  },
  {
   "cell_type": "code",
   "execution_count": 41,
   "metadata": {},
   "outputs": [
    {
     "data": {
      "text/plain": [
       "9285.045454545454"
      ]
     },
     "execution_count": 41,
     "metadata": {},
     "output_type": "execute_result"
    }
   ],
   "source": [
    "#expected value\n",
    "expected_2020 = crime_2020/22\n",
    "expected_2020"
   ]
  },
  {
   "cell_type": "code",
   "execution_count": 42,
   "metadata": {},
   "outputs": [],
   "source": [
    "# Observed counts of crime by district\n",
    "observed_2020 = pd.Series([8150.000000000000,9270.000000000000,10869.000000000000,11711.000000000000,10067.000000000000,13902.000000000000,11648.000000000000,12178.000000000000,9105.000000000000,9994.000000000000,14780.000000000000,9886.000000000000,6455.000000000000,7813.000000000000,7024.000000000000,5566.000000000000,8555.000000000000,8977.000000000000,3930.000000000000,6628.000000000000,6621.000000000000,11142.000000000000], \n",
    "                     index=['1','2','3','4','5','6','7','8','9','10','11','12','14','15','16','17','18','19','20','22','24','25'])"
   ]
  },
  {
   "cell_type": "code",
   "execution_count": 43,
   "metadata": {},
   "outputs": [],
   "source": [
    "# Create a data frame\n",
    "chi_2020 = pd.DataFrame([observed_2020]).T"
   ]
  },
  {
   "cell_type": "code",
   "execution_count": 44,
   "metadata": {},
   "outputs": [],
   "source": [
    " # Add a column whose default values are the expected values\n",
    "chi_2020[1] = 9285.045454545454"
   ]
  },
  {
   "cell_type": "code",
   "execution_count": 45,
   "metadata": {},
   "outputs": [],
   "source": [
    "# Rename columns\n",
    "chi_2020.columns = [\"observed\", \"expected\"]"
   ]
  },
  {
   "cell_type": "code",
   "execution_count": 46,
   "metadata": {},
   "outputs": [
    {
     "data": {
      "text/html": [
       "<div>\n",
       "<style scoped>\n",
       "    .dataframe tbody tr th:only-of-type {\n",
       "        vertical-align: middle;\n",
       "    }\n",
       "\n",
       "    .dataframe tbody tr th {\n",
       "        vertical-align: top;\n",
       "    }\n",
       "\n",
       "    .dataframe thead th {\n",
       "        text-align: right;\n",
       "    }\n",
       "</style>\n",
       "<table border=\"1\" class=\"dataframe\">\n",
       "  <thead>\n",
       "    <tr style=\"text-align: right;\">\n",
       "      <th></th>\n",
       "      <th>observed</th>\n",
       "      <th>expected</th>\n",
       "    </tr>\n",
       "  </thead>\n",
       "  <tbody>\n",
       "    <tr>\n",
       "      <th>1</th>\n",
       "      <td>8150.0</td>\n",
       "      <td>9285.045455</td>\n",
       "    </tr>\n",
       "    <tr>\n",
       "      <th>2</th>\n",
       "      <td>9270.0</td>\n",
       "      <td>9285.045455</td>\n",
       "    </tr>\n",
       "    <tr>\n",
       "      <th>3</th>\n",
       "      <td>10869.0</td>\n",
       "      <td>9285.045455</td>\n",
       "    </tr>\n",
       "    <tr>\n",
       "      <th>4</th>\n",
       "      <td>11711.0</td>\n",
       "      <td>9285.045455</td>\n",
       "    </tr>\n",
       "    <tr>\n",
       "      <th>5</th>\n",
       "      <td>10067.0</td>\n",
       "      <td>9285.045455</td>\n",
       "    </tr>\n",
       "    <tr>\n",
       "      <th>6</th>\n",
       "      <td>13902.0</td>\n",
       "      <td>9285.045455</td>\n",
       "    </tr>\n",
       "    <tr>\n",
       "      <th>7</th>\n",
       "      <td>11648.0</td>\n",
       "      <td>9285.045455</td>\n",
       "    </tr>\n",
       "    <tr>\n",
       "      <th>8</th>\n",
       "      <td>12178.0</td>\n",
       "      <td>9285.045455</td>\n",
       "    </tr>\n",
       "    <tr>\n",
       "      <th>9</th>\n",
       "      <td>9105.0</td>\n",
       "      <td>9285.045455</td>\n",
       "    </tr>\n",
       "    <tr>\n",
       "      <th>10</th>\n",
       "      <td>9994.0</td>\n",
       "      <td>9285.045455</td>\n",
       "    </tr>\n",
       "    <tr>\n",
       "      <th>11</th>\n",
       "      <td>14780.0</td>\n",
       "      <td>9285.045455</td>\n",
       "    </tr>\n",
       "    <tr>\n",
       "      <th>12</th>\n",
       "      <td>9886.0</td>\n",
       "      <td>9285.045455</td>\n",
       "    </tr>\n",
       "    <tr>\n",
       "      <th>14</th>\n",
       "      <td>6455.0</td>\n",
       "      <td>9285.045455</td>\n",
       "    </tr>\n",
       "    <tr>\n",
       "      <th>15</th>\n",
       "      <td>7813.0</td>\n",
       "      <td>9285.045455</td>\n",
       "    </tr>\n",
       "    <tr>\n",
       "      <th>16</th>\n",
       "      <td>7024.0</td>\n",
       "      <td>9285.045455</td>\n",
       "    </tr>\n",
       "    <tr>\n",
       "      <th>17</th>\n",
       "      <td>5566.0</td>\n",
       "      <td>9285.045455</td>\n",
       "    </tr>\n",
       "    <tr>\n",
       "      <th>18</th>\n",
       "      <td>8555.0</td>\n",
       "      <td>9285.045455</td>\n",
       "    </tr>\n",
       "    <tr>\n",
       "      <th>19</th>\n",
       "      <td>8977.0</td>\n",
       "      <td>9285.045455</td>\n",
       "    </tr>\n",
       "    <tr>\n",
       "      <th>20</th>\n",
       "      <td>3930.0</td>\n",
       "      <td>9285.045455</td>\n",
       "    </tr>\n",
       "    <tr>\n",
       "      <th>22</th>\n",
       "      <td>6628.0</td>\n",
       "      <td>9285.045455</td>\n",
       "    </tr>\n",
       "    <tr>\n",
       "      <th>24</th>\n",
       "      <td>6621.0</td>\n",
       "      <td>9285.045455</td>\n",
       "    </tr>\n",
       "    <tr>\n",
       "      <th>25</th>\n",
       "      <td>11142.0</td>\n",
       "      <td>9285.045455</td>\n",
       "    </tr>\n",
       "  </tbody>\n",
       "</table>\n",
       "</div>"
      ],
      "text/plain": [
       "    observed     expected\n",
       "1     8150.0  9285.045455\n",
       "2     9270.0  9285.045455\n",
       "3    10869.0  9285.045455\n",
       "4    11711.0  9285.045455\n",
       "5    10067.0  9285.045455\n",
       "6    13902.0  9285.045455\n",
       "7    11648.0  9285.045455\n",
       "8    12178.0  9285.045455\n",
       "9     9105.0  9285.045455\n",
       "10    9994.0  9285.045455\n",
       "11   14780.0  9285.045455\n",
       "12    9886.0  9285.045455\n",
       "14    6455.0  9285.045455\n",
       "15    7813.0  9285.045455\n",
       "16    7024.0  9285.045455\n",
       "17    5566.0  9285.045455\n",
       "18    8555.0  9285.045455\n",
       "19    8977.0  9285.045455\n",
       "20    3930.0  9285.045455\n",
       "22    6628.0  9285.045455\n",
       "24    6621.0  9285.045455\n",
       "25   11142.0  9285.045455"
      ]
     },
     "execution_count": 46,
     "metadata": {},
     "output_type": "execute_result"
    }
   ],
   "source": [
    "# View the data frame\n",
    "chi_2020"
   ]
  },
  {
   "cell_type": "code",
   "execution_count": 47,
   "metadata": {},
   "outputs": [
    {
     "data": {
      "text/plain": [
       "Power_divergenceResult(statistic=16443.998007548795, pvalue=0.0)"
      ]
     },
     "execution_count": 47,
     "metadata": {},
     "output_type": "execute_result"
    }
   ],
   "source": [
    " # Run the chi square test with stats.chisquare()\n",
    "stats.chisquare(chi_2020['observed'], chi_2020['expected'])"
   ]
  },
  {
   "attachments": {},
   "cell_type": "markdown",
   "metadata": {},
   "source": [
    "Conclusion\n",
    "\n",
    "Since the chi square value of 16,443 exceeds the critical value of 32.67, we conclude that the results are statistically significant."
   ]
  },
  {
   "cell_type": "code",
   "execution_count": 48,
   "metadata": {},
   "outputs": [
    {
     "data": {
      "text/plain": [
       "199060"
      ]
     },
     "execution_count": 48,
     "metadata": {},
     "output_type": "execute_result"
    }
   ],
   "source": [
    "#total number of unique crime\n",
    "crime_2021 = df_2021[\"Primary Type\"].count()\n",
    "crime_2021"
   ]
  },
  {
   "cell_type": "code",
   "execution_count": 49,
   "metadata": {},
   "outputs": [
    {
     "data": {
      "text/plain": [
       "District\n",
       "1      8768\n",
       "2      9313\n",
       "3     10350\n",
       "4     11805\n",
       "5      9395\n",
       "6     13307\n",
       "7     10339\n",
       "8     11845\n",
       "9      8949\n",
       "10     8938\n",
       "11    12906\n",
       "12    10506\n",
       "14     6618\n",
       "15     6869\n",
       "16     7097\n",
       "17     5315\n",
       "18     9716\n",
       "19     9216\n",
       "20     4073\n",
       "22     6473\n",
       "24     6660\n",
       "25    10602\n",
       "Name: Primary Type, dtype: int64"
      ]
     },
     "execution_count": 49,
     "metadata": {},
     "output_type": "execute_result"
    }
   ],
   "source": [
    "#crime by district\n",
    "crime_by_district_2021 = df_2021.groupby(\"District\")[\"Primary Type\"].count()\n",
    "crime_by_district_2021"
   ]
  },
  {
   "cell_type": "code",
   "execution_count": 50,
   "metadata": {},
   "outputs": [
    {
     "data": {
      "text/plain": [
       "9048.181818181818"
      ]
     },
     "execution_count": 50,
     "metadata": {},
     "output_type": "execute_result"
    }
   ],
   "source": [
    "#expected value\n",
    "expected_2021 = crime_2021/22\n",
    "expected_2021"
   ]
  },
  {
   "cell_type": "code",
   "execution_count": 51,
   "metadata": {},
   "outputs": [],
   "source": [
    "# Observed counts of crime by district\n",
    "observed_2021 = pd.Series([8768.000000000000,9313.000000000000,10350.000000000000,11805.000000000000,9395.000000000000,13307.000000000000,10339.000000000000,11845.000000000000,8949.000000000000,8938.000000000000,12906.000000000000,10506.000000000000,6618.000000000000,6869.000000000000,7097.000000000000,5315.000000000000,9716.000000000000,9216.000000000000,4073.000000000000,6473.000000000000,6660.000000000000,10602.000000000000], \n",
    "                     index=['1','2','3','4','5','6','7','8','9','10','11','12','14','15','16','17','18','19','20','22','24','25'])"
   ]
  },
  {
   "cell_type": "code",
   "execution_count": 52,
   "metadata": {},
   "outputs": [],
   "source": [
    "# Create a data frame\n",
    "chi_2021 = pd.DataFrame([observed_2021]).T"
   ]
  },
  {
   "cell_type": "code",
   "execution_count": 53,
   "metadata": {},
   "outputs": [],
   "source": [
    " # Add a column whose default values are the expected values\n",
    "chi_2021[1] = 9048.181818181818"
   ]
  },
  {
   "cell_type": "code",
   "execution_count": 54,
   "metadata": {},
   "outputs": [],
   "source": [
    "# Rename columns\n",
    "chi_2021.columns = [\"observed\", \"expected\"]"
   ]
  },
  {
   "cell_type": "code",
   "execution_count": 55,
   "metadata": {},
   "outputs": [
    {
     "data": {
      "text/html": [
       "<div>\n",
       "<style scoped>\n",
       "    .dataframe tbody tr th:only-of-type {\n",
       "        vertical-align: middle;\n",
       "    }\n",
       "\n",
       "    .dataframe tbody tr th {\n",
       "        vertical-align: top;\n",
       "    }\n",
       "\n",
       "    .dataframe thead th {\n",
       "        text-align: right;\n",
       "    }\n",
       "</style>\n",
       "<table border=\"1\" class=\"dataframe\">\n",
       "  <thead>\n",
       "    <tr style=\"text-align: right;\">\n",
       "      <th></th>\n",
       "      <th>observed</th>\n",
       "      <th>expected</th>\n",
       "    </tr>\n",
       "  </thead>\n",
       "  <tbody>\n",
       "    <tr>\n",
       "      <th>1</th>\n",
       "      <td>8768.0</td>\n",
       "      <td>9048.181818</td>\n",
       "    </tr>\n",
       "    <tr>\n",
       "      <th>2</th>\n",
       "      <td>9313.0</td>\n",
       "      <td>9048.181818</td>\n",
       "    </tr>\n",
       "    <tr>\n",
       "      <th>3</th>\n",
       "      <td>10350.0</td>\n",
       "      <td>9048.181818</td>\n",
       "    </tr>\n",
       "    <tr>\n",
       "      <th>4</th>\n",
       "      <td>11805.0</td>\n",
       "      <td>9048.181818</td>\n",
       "    </tr>\n",
       "    <tr>\n",
       "      <th>5</th>\n",
       "      <td>9395.0</td>\n",
       "      <td>9048.181818</td>\n",
       "    </tr>\n",
       "    <tr>\n",
       "      <th>6</th>\n",
       "      <td>13307.0</td>\n",
       "      <td>9048.181818</td>\n",
       "    </tr>\n",
       "    <tr>\n",
       "      <th>7</th>\n",
       "      <td>10339.0</td>\n",
       "      <td>9048.181818</td>\n",
       "    </tr>\n",
       "    <tr>\n",
       "      <th>8</th>\n",
       "      <td>11845.0</td>\n",
       "      <td>9048.181818</td>\n",
       "    </tr>\n",
       "    <tr>\n",
       "      <th>9</th>\n",
       "      <td>8949.0</td>\n",
       "      <td>9048.181818</td>\n",
       "    </tr>\n",
       "    <tr>\n",
       "      <th>10</th>\n",
       "      <td>8938.0</td>\n",
       "      <td>9048.181818</td>\n",
       "    </tr>\n",
       "    <tr>\n",
       "      <th>11</th>\n",
       "      <td>12906.0</td>\n",
       "      <td>9048.181818</td>\n",
       "    </tr>\n",
       "    <tr>\n",
       "      <th>12</th>\n",
       "      <td>10506.0</td>\n",
       "      <td>9048.181818</td>\n",
       "    </tr>\n",
       "    <tr>\n",
       "      <th>14</th>\n",
       "      <td>6618.0</td>\n",
       "      <td>9048.181818</td>\n",
       "    </tr>\n",
       "    <tr>\n",
       "      <th>15</th>\n",
       "      <td>6869.0</td>\n",
       "      <td>9048.181818</td>\n",
       "    </tr>\n",
       "    <tr>\n",
       "      <th>16</th>\n",
       "      <td>7097.0</td>\n",
       "      <td>9048.181818</td>\n",
       "    </tr>\n",
       "    <tr>\n",
       "      <th>17</th>\n",
       "      <td>5315.0</td>\n",
       "      <td>9048.181818</td>\n",
       "    </tr>\n",
       "    <tr>\n",
       "      <th>18</th>\n",
       "      <td>9716.0</td>\n",
       "      <td>9048.181818</td>\n",
       "    </tr>\n",
       "    <tr>\n",
       "      <th>19</th>\n",
       "      <td>9216.0</td>\n",
       "      <td>9048.181818</td>\n",
       "    </tr>\n",
       "    <tr>\n",
       "      <th>20</th>\n",
       "      <td>4073.0</td>\n",
       "      <td>9048.181818</td>\n",
       "    </tr>\n",
       "    <tr>\n",
       "      <th>22</th>\n",
       "      <td>6473.0</td>\n",
       "      <td>9048.181818</td>\n",
       "    </tr>\n",
       "    <tr>\n",
       "      <th>24</th>\n",
       "      <td>6660.0</td>\n",
       "      <td>9048.181818</td>\n",
       "    </tr>\n",
       "    <tr>\n",
       "      <th>25</th>\n",
       "      <td>10602.0</td>\n",
       "      <td>9048.181818</td>\n",
       "    </tr>\n",
       "  </tbody>\n",
       "</table>\n",
       "</div>"
      ],
      "text/plain": [
       "    observed     expected\n",
       "1     8768.0  9048.181818\n",
       "2     9313.0  9048.181818\n",
       "3    10350.0  9048.181818\n",
       "4    11805.0  9048.181818\n",
       "5     9395.0  9048.181818\n",
       "6    13307.0  9048.181818\n",
       "7    10339.0  9048.181818\n",
       "8    11845.0  9048.181818\n",
       "9     8949.0  9048.181818\n",
       "10    8938.0  9048.181818\n",
       "11   12906.0  9048.181818\n",
       "12   10506.0  9048.181818\n",
       "14    6618.0  9048.181818\n",
       "15    6869.0  9048.181818\n",
       "16    7097.0  9048.181818\n",
       "17    5315.0  9048.181818\n",
       "18    9716.0  9048.181818\n",
       "19    9216.0  9048.181818\n",
       "20    4073.0  9048.181818\n",
       "22    6473.0  9048.181818\n",
       "24    6660.0  9048.181818\n",
       "25   10602.0  9048.181818"
      ]
     },
     "execution_count": 55,
     "metadata": {},
     "output_type": "execute_result"
    }
   ],
   "source": [
    "# View the data frame\n",
    "chi_2021"
   ]
  },
  {
   "cell_type": "code",
   "execution_count": 56,
   "metadata": {},
   "outputs": [
    {
     "data": {
      "text/plain": [
       "Power_divergenceResult(statistic=13549.006611072038, pvalue=0.0)"
      ]
     },
     "execution_count": 56,
     "metadata": {},
     "output_type": "execute_result"
    }
   ],
   "source": [
    " # Run the chi square test with stats.chisquare()\n",
    "stats.chisquare(chi_2021['observed'], chi_2021['expected'])"
   ]
  },
  {
   "attachments": {},
   "cell_type": "markdown",
   "metadata": {},
   "source": [
    "Conclusion\n",
    "\n",
    "Since the chi square value of 13,549 exceeds the critical value of 32.67, we conclude that the results are statistically significant."
   ]
  },
  {
   "cell_type": "code",
   "execution_count": 57,
   "metadata": {},
   "outputs": [
    {
     "data": {
      "text/plain": [
       "228855"
      ]
     },
     "execution_count": 57,
     "metadata": {},
     "output_type": "execute_result"
    }
   ],
   "source": [
    "#total number of unique crime\n",
    "crime_2022 = df_2022[\"Primary Type\"].count()\n",
    "crime_2022"
   ]
  },
  {
   "cell_type": "code",
   "execution_count": 58,
   "metadata": {},
   "outputs": [
    {
     "data": {
      "text/plain": [
       "District\n",
       "1     12496\n",
       "2     11499\n",
       "3     11747\n",
       "4     13241\n",
       "5      9594\n",
       "6     14467\n",
       "7     10164\n",
       "8     13676\n",
       "9     10177\n",
       "10     9795\n",
       "11    12888\n",
       "12    13914\n",
       "14     7873\n",
       "15     7166\n",
       "16     8164\n",
       "17     6470\n",
       "18    12000\n",
       "19    11719\n",
       "20     4794\n",
       "22     7076\n",
       "24     8246\n",
       "25    11689\n",
       "Name: Primary Type, dtype: int64"
      ]
     },
     "execution_count": 58,
     "metadata": {},
     "output_type": "execute_result"
    }
   ],
   "source": [
    "#crime by district\n",
    "crime_by_district_2022 = df_2022.groupby(\"District\")[\"Primary Type\"].count()\n",
    "crime_by_district_2022"
   ]
  },
  {
   "cell_type": "code",
   "execution_count": 59,
   "metadata": {},
   "outputs": [
    {
     "data": {
      "text/plain": [
       "10402.5"
      ]
     },
     "execution_count": 59,
     "metadata": {},
     "output_type": "execute_result"
    }
   ],
   "source": [
    "#expected value\n",
    "expected_2022 = crime_2022/22\n",
    "expected_2022"
   ]
  },
  {
   "cell_type": "code",
   "execution_count": 60,
   "metadata": {},
   "outputs": [],
   "source": [
    "# Observed counts of crime by district\n",
    "observed_2022 = pd.Series([12496.0,11499.0,11747.0,13241.0,9594.0,14467.0,10164.0,13676.0,10177.0,9795.0,12888.0,13914.0,7873.0,7166.0,8164.0,6470.0,12000.0,11719.0,4794.0,7076.0,8246.0,11689.0], \n",
    "                     index=['1','2','3','4','5','6','7','8','9','10','11','12','14','15','16','17','18','19','20','22','24','25'])"
   ]
  },
  {
   "cell_type": "code",
   "execution_count": 61,
   "metadata": {},
   "outputs": [],
   "source": [
    "# Create a data frame\n",
    "chi_2022 = pd.DataFrame([observed_2022]).T"
   ]
  },
  {
   "cell_type": "code",
   "execution_count": 62,
   "metadata": {},
   "outputs": [],
   "source": [
    " # Add a column whose default values are the expected values\n",
    "chi_2022[1] = 10402.5"
   ]
  },
  {
   "cell_type": "code",
   "execution_count": 63,
   "metadata": {},
   "outputs": [],
   "source": [
    "# Rename columns\n",
    "chi_2022.columns = [\"observed\", \"expected\"]"
   ]
  },
  {
   "cell_type": "code",
   "execution_count": 64,
   "metadata": {},
   "outputs": [
    {
     "data": {
      "text/html": [
       "<div>\n",
       "<style scoped>\n",
       "    .dataframe tbody tr th:only-of-type {\n",
       "        vertical-align: middle;\n",
       "    }\n",
       "\n",
       "    .dataframe tbody tr th {\n",
       "        vertical-align: top;\n",
       "    }\n",
       "\n",
       "    .dataframe thead th {\n",
       "        text-align: right;\n",
       "    }\n",
       "</style>\n",
       "<table border=\"1\" class=\"dataframe\">\n",
       "  <thead>\n",
       "    <tr style=\"text-align: right;\">\n",
       "      <th></th>\n",
       "      <th>observed</th>\n",
       "      <th>expected</th>\n",
       "    </tr>\n",
       "  </thead>\n",
       "  <tbody>\n",
       "    <tr>\n",
       "      <th>1</th>\n",
       "      <td>12496.0</td>\n",
       "      <td>10402.5</td>\n",
       "    </tr>\n",
       "    <tr>\n",
       "      <th>2</th>\n",
       "      <td>11499.0</td>\n",
       "      <td>10402.5</td>\n",
       "    </tr>\n",
       "    <tr>\n",
       "      <th>3</th>\n",
       "      <td>11747.0</td>\n",
       "      <td>10402.5</td>\n",
       "    </tr>\n",
       "    <tr>\n",
       "      <th>4</th>\n",
       "      <td>13241.0</td>\n",
       "      <td>10402.5</td>\n",
       "    </tr>\n",
       "    <tr>\n",
       "      <th>5</th>\n",
       "      <td>9594.0</td>\n",
       "      <td>10402.5</td>\n",
       "    </tr>\n",
       "    <tr>\n",
       "      <th>6</th>\n",
       "      <td>14467.0</td>\n",
       "      <td>10402.5</td>\n",
       "    </tr>\n",
       "    <tr>\n",
       "      <th>7</th>\n",
       "      <td>10164.0</td>\n",
       "      <td>10402.5</td>\n",
       "    </tr>\n",
       "    <tr>\n",
       "      <th>8</th>\n",
       "      <td>13676.0</td>\n",
       "      <td>10402.5</td>\n",
       "    </tr>\n",
       "    <tr>\n",
       "      <th>9</th>\n",
       "      <td>10177.0</td>\n",
       "      <td>10402.5</td>\n",
       "    </tr>\n",
       "    <tr>\n",
       "      <th>10</th>\n",
       "      <td>9795.0</td>\n",
       "      <td>10402.5</td>\n",
       "    </tr>\n",
       "    <tr>\n",
       "      <th>11</th>\n",
       "      <td>12888.0</td>\n",
       "      <td>10402.5</td>\n",
       "    </tr>\n",
       "    <tr>\n",
       "      <th>12</th>\n",
       "      <td>13914.0</td>\n",
       "      <td>10402.5</td>\n",
       "    </tr>\n",
       "    <tr>\n",
       "      <th>14</th>\n",
       "      <td>7873.0</td>\n",
       "      <td>10402.5</td>\n",
       "    </tr>\n",
       "    <tr>\n",
       "      <th>15</th>\n",
       "      <td>7166.0</td>\n",
       "      <td>10402.5</td>\n",
       "    </tr>\n",
       "    <tr>\n",
       "      <th>16</th>\n",
       "      <td>8164.0</td>\n",
       "      <td>10402.5</td>\n",
       "    </tr>\n",
       "    <tr>\n",
       "      <th>17</th>\n",
       "      <td>6470.0</td>\n",
       "      <td>10402.5</td>\n",
       "    </tr>\n",
       "    <tr>\n",
       "      <th>18</th>\n",
       "      <td>12000.0</td>\n",
       "      <td>10402.5</td>\n",
       "    </tr>\n",
       "    <tr>\n",
       "      <th>19</th>\n",
       "      <td>11719.0</td>\n",
       "      <td>10402.5</td>\n",
       "    </tr>\n",
       "    <tr>\n",
       "      <th>20</th>\n",
       "      <td>4794.0</td>\n",
       "      <td>10402.5</td>\n",
       "    </tr>\n",
       "    <tr>\n",
       "      <th>22</th>\n",
       "      <td>7076.0</td>\n",
       "      <td>10402.5</td>\n",
       "    </tr>\n",
       "    <tr>\n",
       "      <th>24</th>\n",
       "      <td>8246.0</td>\n",
       "      <td>10402.5</td>\n",
       "    </tr>\n",
       "    <tr>\n",
       "      <th>25</th>\n",
       "      <td>11689.0</td>\n",
       "      <td>10402.5</td>\n",
       "    </tr>\n",
       "  </tbody>\n",
       "</table>\n",
       "</div>"
      ],
      "text/plain": [
       "    observed  expected\n",
       "1    12496.0   10402.5\n",
       "2    11499.0   10402.5\n",
       "3    11747.0   10402.5\n",
       "4    13241.0   10402.5\n",
       "5     9594.0   10402.5\n",
       "6    14467.0   10402.5\n",
       "7    10164.0   10402.5\n",
       "8    13676.0   10402.5\n",
       "9    10177.0   10402.5\n",
       "10    9795.0   10402.5\n",
       "11   12888.0   10402.5\n",
       "12   13914.0   10402.5\n",
       "14    7873.0   10402.5\n",
       "15    7166.0   10402.5\n",
       "16    8164.0   10402.5\n",
       "17    6470.0   10402.5\n",
       "18   12000.0   10402.5\n",
       "19   11719.0   10402.5\n",
       "20    4794.0   10402.5\n",
       "22    7076.0   10402.5\n",
       "24    8246.0   10402.5\n",
       "25   11689.0   10402.5"
      ]
     },
     "execution_count": 64,
     "metadata": {},
     "output_type": "execute_result"
    }
   ],
   "source": [
    "# View the data frame\n",
    "chi_2022"
   ]
  },
  {
   "cell_type": "code",
   "execution_count": 65,
   "metadata": {},
   "outputs": [
    {
     "data": {
      "text/plain": [
       "Power_divergenceResult(statistic=14687.330112953618, pvalue=0.0)"
      ]
     },
     "execution_count": 65,
     "metadata": {},
     "output_type": "execute_result"
    }
   ],
   "source": [
    " # Run the chi square test with stats.chisquare()\n",
    "stats.chisquare(chi_2022['observed'], chi_2022['expected'])"
   ]
  },
  {
   "attachments": {},
   "cell_type": "markdown",
   "metadata": {},
   "source": [
    "Conclusion\n",
    "\n",
    "Since the chi square value of 14,687 exceeds the critical value of 32.67, we conclude that the results are statistically significant."
   ]
  },
  {
   "cell_type": "code",
   "execution_count": 66,
   "metadata": {},
   "outputs": [
    {
     "data": {
      "text/html": [
       "<div>\n",
       "<style scoped>\n",
       "    .dataframe tbody tr th:only-of-type {\n",
       "        vertical-align: middle;\n",
       "    }\n",
       "\n",
       "    .dataframe tbody tr th {\n",
       "        vertical-align: top;\n",
       "    }\n",
       "\n",
       "    .dataframe thead th {\n",
       "        text-align: right;\n",
       "    }\n",
       "</style>\n",
       "<table border=\"1\" class=\"dataframe\">\n",
       "  <thead>\n",
       "    <tr style=\"text-align: right;\">\n",
       "      <th></th>\n",
       "      <th>District</th>\n",
       "      <th>Per Capita Crime Count</th>\n",
       "    </tr>\n",
       "  </thead>\n",
       "  <tbody>\n",
       "    <tr>\n",
       "      <th>0</th>\n",
       "      <td>1</td>\n",
       "      <td>0.097490</td>\n",
       "    </tr>\n",
       "    <tr>\n",
       "      <th>1</th>\n",
       "      <td>2</td>\n",
       "      <td>0.056675</td>\n",
       "    </tr>\n",
       "    <tr>\n",
       "      <th>2</th>\n",
       "      <td>3</td>\n",
       "      <td>0.055896</td>\n",
       "    </tr>\n",
       "    <tr>\n",
       "      <th>3</th>\n",
       "      <td>4</td>\n",
       "      <td>0.067163</td>\n",
       "    </tr>\n",
       "    <tr>\n",
       "      <th>4</th>\n",
       "      <td>5</td>\n",
       "      <td>0.036991</td>\n",
       "    </tr>\n",
       "    <tr>\n",
       "      <th>5</th>\n",
       "      <td>6</td>\n",
       "      <td>0.066932</td>\n",
       "    </tr>\n",
       "    <tr>\n",
       "      <th>6</th>\n",
       "      <td>7</td>\n",
       "      <td>0.079481</td>\n",
       "    </tr>\n",
       "    <tr>\n",
       "      <th>7</th>\n",
       "      <td>8</td>\n",
       "      <td>0.042925</td>\n",
       "    </tr>\n",
       "    <tr>\n",
       "      <th>8</th>\n",
       "      <td>9</td>\n",
       "      <td>0.024156</td>\n",
       "    </tr>\n",
       "    <tr>\n",
       "      <th>9</th>\n",
       "      <td>10</td>\n",
       "      <td>0.030581</td>\n",
       "    </tr>\n",
       "    <tr>\n",
       "      <th>10</th>\n",
       "      <td>11</td>\n",
       "      <td>0.060918</td>\n",
       "    </tr>\n",
       "    <tr>\n",
       "      <th>11</th>\n",
       "      <td>12</td>\n",
       "      <td>0.041275</td>\n",
       "    </tr>\n",
       "    <tr>\n",
       "      <th>12</th>\n",
       "      <td>14</td>\n",
       "      <td>0.025076</td>\n",
       "    </tr>\n",
       "    <tr>\n",
       "      <th>13</th>\n",
       "      <td>15</td>\n",
       "      <td>0.049419</td>\n",
       "    </tr>\n",
       "    <tr>\n",
       "      <th>14</th>\n",
       "      <td>16</td>\n",
       "      <td>0.024038</td>\n",
       "    </tr>\n",
       "    <tr>\n",
       "      <th>15</th>\n",
       "      <td>17</td>\n",
       "      <td>0.021608</td>\n",
       "    </tr>\n",
       "    <tr>\n",
       "      <th>16</th>\n",
       "      <td>18</td>\n",
       "      <td>0.075589</td>\n",
       "    </tr>\n",
       "    <tr>\n",
       "      <th>17</th>\n",
       "      <td>19</td>\n",
       "      <td>0.025457</td>\n",
       "    </tr>\n",
       "    <tr>\n",
       "      <th>18</th>\n",
       "      <td>20</td>\n",
       "      <td>0.019074</td>\n",
       "    </tr>\n",
       "    <tr>\n",
       "      <th>19</th>\n",
       "      <td>22</td>\n",
       "      <td>0.045885</td>\n",
       "    </tr>\n",
       "    <tr>\n",
       "      <th>20</th>\n",
       "      <td>24</td>\n",
       "      <td>0.053523</td>\n",
       "    </tr>\n",
       "    <tr>\n",
       "      <th>21</th>\n",
       "      <td>25</td>\n",
       "      <td>0.028393</td>\n",
       "    </tr>\n",
       "  </tbody>\n",
       "</table>\n",
       "</div>"
      ],
      "text/plain": [
       "    District  Per Capita Crime Count\n",
       "0          1                0.097490\n",
       "1          2                0.056675\n",
       "2          3                0.055896\n",
       "3          4                0.067163\n",
       "4          5                0.036991\n",
       "5          6                0.066932\n",
       "6          7                0.079481\n",
       "7          8                0.042925\n",
       "8          9                0.024156\n",
       "9         10                0.030581\n",
       "10        11                0.060918\n",
       "11        12                0.041275\n",
       "12        14                0.025076\n",
       "13        15                0.049419\n",
       "14        16                0.024038\n",
       "15        17                0.021608\n",
       "16        18                0.075589\n",
       "17        19                0.025457\n",
       "18        20                0.019074\n",
       "19        22                0.045885\n",
       "20        24                0.053523\n",
       "21        25                0.028393"
      ]
     },
     "execution_count": 66,
     "metadata": {},
     "output_type": "execute_result"
    }
   ],
   "source": [
    "# Look at per capita crime rate per district over the five year timespan\n",
    "district_df = crime_data[[\"Year\", \"District\", \"Primary Type\", \"Population\", \"Zipcode\"]]\n",
    "district_df\n",
    "\n",
    "# Get the population per district by creating a new data frame and dropping any unique combinations of distict, zip code, and population\n",
    "unique_pop = district_df[[\"District\", \"Zipcode\", \"Population\"]].drop_duplicates()\n",
    "pop_per_district = unique_pop.groupby(\"District\")[\"Population\"].sum()\n",
    "\n",
    "# Get the per capita crime count\n",
    "cnt_per_district = district_df.groupby(\"District\")[\"Primary Type\"].count()\n",
    "cnt_per_district\n",
    "\n",
    "# Get the per capita crime count\n",
    "per_cap_crime_cnt = cnt_per_district/pop_per_district\n",
    "\n",
    "# Put in a data frame\n",
    "district_per_capita = pd.DataFrame({\"District\" : per_cap_crime_cnt.index, \"Per Capita Crime Count\" : per_cap_crime_cnt.values})\n",
    "district_per_capita"
   ]
  },
  {
   "cell_type": "code",
   "execution_count": 115,
   "metadata": {},
   "outputs": [
    {
     "data": {
      "text/plain": [
       "1.0285460386540908"
      ]
     },
     "execution_count": 115,
     "metadata": {},
     "output_type": "execute_result"
    }
   ],
   "source": [
    "total_capita = district_per_capita[\"Per Capita Crime Count\"].sum()\n",
    "total_capita"
   ]
  },
  {
   "cell_type": "code",
   "execution_count": 116,
   "metadata": {},
   "outputs": [],
   "source": [
    "# Observed counts of crime by district (cumulative, over the last 5 years)\n",
    "per_capita_observed = pd.Series([0.097490000000000000,0.056675000000000000,0.055896000000000000,0.067163000000000000,0.036991000000000000,0.066932000000000000,0.079481000000000000,0.042925000000000000,0.024156000000000000,0.030581000000000000,0.060918000000000000,0.041275000000000000,0.025076000000000000,0.049419000000000000,0.024038000000000000,0.021608000000000000,0.075589000000000000,0.025457000000000000,0.019074000000000000,0.045885000000000000,0.053523000000000000,0.028393000000000000], \n",
    "                     index=['1','2','3','4','5','6','7','8','9','10','11','12','14','15','16','17','18','19','20','22','24','25'])"
   ]
  },
  {
   "cell_type": "code",
   "execution_count": 127,
   "metadata": {},
   "outputs": [
    {
     "data": {
      "text/plain": [
       "0.04675204545454545"
      ]
     },
     "execution_count": 127,
     "metadata": {},
     "output_type": "execute_result"
    }
   ],
   "source": [
    "expected_per_capita = (per_capita_observed.sum()) / 22\n",
    "expected_per_capita"
   ]
  },
  {
   "cell_type": "code",
   "execution_count": 128,
   "metadata": {},
   "outputs": [],
   "source": [
    "# Create a data frame\n",
    "chi_per_capita = pd.DataFrame([per_capita_observed]).T"
   ]
  },
  {
   "cell_type": "code",
   "execution_count": 129,
   "metadata": {},
   "outputs": [],
   "source": [
    "# Add a column whose default values are the expected values\n",
    "chi_per_capita[1] = expected_per_capita"
   ]
  },
  {
   "cell_type": "code",
   "execution_count": 130,
   "metadata": {},
   "outputs": [],
   "source": [
    "# Rename columns\n",
    "chi_per_capita.columns = [\"observed\", \"expected\"]"
   ]
  },
  {
   "cell_type": "code",
   "execution_count": 131,
   "metadata": {},
   "outputs": [
    {
     "data": {
      "text/html": [
       "<div>\n",
       "<style scoped>\n",
       "    .dataframe tbody tr th:only-of-type {\n",
       "        vertical-align: middle;\n",
       "    }\n",
       "\n",
       "    .dataframe tbody tr th {\n",
       "        vertical-align: top;\n",
       "    }\n",
       "\n",
       "    .dataframe thead th {\n",
       "        text-align: right;\n",
       "    }\n",
       "</style>\n",
       "<table border=\"1\" class=\"dataframe\">\n",
       "  <thead>\n",
       "    <tr style=\"text-align: right;\">\n",
       "      <th></th>\n",
       "      <th>observed</th>\n",
       "      <th>expected</th>\n",
       "    </tr>\n",
       "  </thead>\n",
       "  <tbody>\n",
       "    <tr>\n",
       "      <th>1</th>\n",
       "      <td>0.097490</td>\n",
       "      <td>0.046752</td>\n",
       "    </tr>\n",
       "    <tr>\n",
       "      <th>2</th>\n",
       "      <td>0.056675</td>\n",
       "      <td>0.046752</td>\n",
       "    </tr>\n",
       "    <tr>\n",
       "      <th>3</th>\n",
       "      <td>0.055896</td>\n",
       "      <td>0.046752</td>\n",
       "    </tr>\n",
       "    <tr>\n",
       "      <th>4</th>\n",
       "      <td>0.067163</td>\n",
       "      <td>0.046752</td>\n",
       "    </tr>\n",
       "    <tr>\n",
       "      <th>5</th>\n",
       "      <td>0.036991</td>\n",
       "      <td>0.046752</td>\n",
       "    </tr>\n",
       "    <tr>\n",
       "      <th>6</th>\n",
       "      <td>0.066932</td>\n",
       "      <td>0.046752</td>\n",
       "    </tr>\n",
       "    <tr>\n",
       "      <th>7</th>\n",
       "      <td>0.079481</td>\n",
       "      <td>0.046752</td>\n",
       "    </tr>\n",
       "    <tr>\n",
       "      <th>8</th>\n",
       "      <td>0.042925</td>\n",
       "      <td>0.046752</td>\n",
       "    </tr>\n",
       "    <tr>\n",
       "      <th>9</th>\n",
       "      <td>0.024156</td>\n",
       "      <td>0.046752</td>\n",
       "    </tr>\n",
       "    <tr>\n",
       "      <th>10</th>\n",
       "      <td>0.030581</td>\n",
       "      <td>0.046752</td>\n",
       "    </tr>\n",
       "    <tr>\n",
       "      <th>11</th>\n",
       "      <td>0.060918</td>\n",
       "      <td>0.046752</td>\n",
       "    </tr>\n",
       "    <tr>\n",
       "      <th>12</th>\n",
       "      <td>0.041275</td>\n",
       "      <td>0.046752</td>\n",
       "    </tr>\n",
       "    <tr>\n",
       "      <th>14</th>\n",
       "      <td>0.025076</td>\n",
       "      <td>0.046752</td>\n",
       "    </tr>\n",
       "    <tr>\n",
       "      <th>15</th>\n",
       "      <td>0.049419</td>\n",
       "      <td>0.046752</td>\n",
       "    </tr>\n",
       "    <tr>\n",
       "      <th>16</th>\n",
       "      <td>0.024038</td>\n",
       "      <td>0.046752</td>\n",
       "    </tr>\n",
       "    <tr>\n",
       "      <th>17</th>\n",
       "      <td>0.021608</td>\n",
       "      <td>0.046752</td>\n",
       "    </tr>\n",
       "    <tr>\n",
       "      <th>18</th>\n",
       "      <td>0.075589</td>\n",
       "      <td>0.046752</td>\n",
       "    </tr>\n",
       "    <tr>\n",
       "      <th>19</th>\n",
       "      <td>0.025457</td>\n",
       "      <td>0.046752</td>\n",
       "    </tr>\n",
       "    <tr>\n",
       "      <th>20</th>\n",
       "      <td>0.019074</td>\n",
       "      <td>0.046752</td>\n",
       "    </tr>\n",
       "    <tr>\n",
       "      <th>22</th>\n",
       "      <td>0.045885</td>\n",
       "      <td>0.046752</td>\n",
       "    </tr>\n",
       "    <tr>\n",
       "      <th>24</th>\n",
       "      <td>0.053523</td>\n",
       "      <td>0.046752</td>\n",
       "    </tr>\n",
       "    <tr>\n",
       "      <th>25</th>\n",
       "      <td>0.028393</td>\n",
       "      <td>0.046752</td>\n",
       "    </tr>\n",
       "  </tbody>\n",
       "</table>\n",
       "</div>"
      ],
      "text/plain": [
       "    observed  expected\n",
       "1   0.097490  0.046752\n",
       "2   0.056675  0.046752\n",
       "3   0.055896  0.046752\n",
       "4   0.067163  0.046752\n",
       "5   0.036991  0.046752\n",
       "6   0.066932  0.046752\n",
       "7   0.079481  0.046752\n",
       "8   0.042925  0.046752\n",
       "9   0.024156  0.046752\n",
       "10  0.030581  0.046752\n",
       "11  0.060918  0.046752\n",
       "12  0.041275  0.046752\n",
       "14  0.025076  0.046752\n",
       "15  0.049419  0.046752\n",
       "16  0.024038  0.046752\n",
       "17  0.021608  0.046752\n",
       "18  0.075589  0.046752\n",
       "19  0.025457  0.046752\n",
       "20  0.019074  0.046752\n",
       "22  0.045885  0.046752\n",
       "24  0.053523  0.046752\n",
       "25  0.028393  0.046752"
      ]
     },
     "execution_count": 131,
     "metadata": {},
     "output_type": "execute_result"
    }
   ],
   "source": [
    "# View the data frame\n",
    "chi_per_capita "
   ]
  },
  {
   "cell_type": "code",
   "execution_count": 132,
   "metadata": {},
   "outputs": [
    {
     "data": {
      "text/plain": [
       "Power_divergenceResult(statistic=0.21013004358292542, pvalue=1.0)"
      ]
     },
     "execution_count": 132,
     "metadata": {},
     "output_type": "execute_result"
    }
   ],
   "source": [
    "# Run the chi square test with stats.chisquare()\n",
    "stats.chisquare(chi_per_capita['observed'], chi_per_capita['expected']) "
   ]
  },
  {
   "cell_type": "markdown",
   "metadata": {},
   "source": [
    "Conclusion\n",
    "\n",
    "Since the chi square value of 0.21 is below the critical value of 32.67, we conclude that the results are statistically significant."
   ]
  }
 ],
 "metadata": {
  "kernelspec": {
   "display_name": "base",
   "language": "python",
   "name": "python3"
  },
  "language_info": {
   "codemirror_mode": {
    "name": "ipython",
    "version": 3
   },
   "file_extension": ".py",
   "mimetype": "text/x-python",
   "name": "python",
   "nbconvert_exporter": "python",
   "pygments_lexer": "ipython3",
   "version": "3.10.9"
  },
  "orig_nbformat": 4
 },
 "nbformat": 4,
 "nbformat_minor": 2
}
