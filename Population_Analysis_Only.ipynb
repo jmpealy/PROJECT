{
 "cells": [
  {
   "cell_type": "code",
   "execution_count": null,
   "metadata": {},
   "outputs": [],
   "source": [
    "# Split data file into years\n",
    "df_2018 = final_df[final_df[\"Year\"]==2018]\n",
    "df_2019 = final_df[final_df[\"Year\"]==2019]\n",
    "df_2020 = final_df[final_df[\"Year\"]==2020]\n",
    "df_2021 = final_df[final_df[\"Year\"]==2021]\n",
    "df_2022 = final_df[final_df[\"Year\"]==2022]"
   ]
  },
  {
   "cell_type": "code",
   "execution_count": null,
   "metadata": {},
   "outputs": [],
   "source": [
    "# Create a data frame of population from year to year\n",
    "total_population = final_df[\"Population\"].sum()\n",
    "years = [2018, 2019, 2020, 2021, 2022]\n",
    "population = [df_2018.groupby(\"Zipcode\")[\"Population\"].unique().sum().sum(),\n",
    "              df_2019.groupby(\"Zipcode\")[\"Population\"].unique().sum().sum(),\n",
    "              df_2020.groupby(\"Zipcode\")[\"Population\"].unique().sum().sum(),\n",
    "              df_2021.groupby(\"Zipcode\")[\"Population\"].unique().sum().sum(),\n",
    "              df_2022.groupby(\"Zipcode\")[\"Population\"].unique().sum().sum()]\n",
    "population_df = pd.DataFrame({\"Year\" : years, \"Population\" : population})\n",
    "population_df"
   ]
  },
  {
   "cell_type": "code",
   "execution_count": null,
   "metadata": {},
   "outputs": [],
   "source": [
    "# Get a high level overview of all crime and all crime per capita\n",
    "total_crime = final_df.groupby(\"Primary Type\").value_counts()\n",
    "total_crime"
   ]
  },
  {
   "cell_type": "code",
   "execution_count": null,
   "metadata": {},
   "outputs": [],
   "source": [
    "# Look at types of crime per capita on the year level\n",
    "\n",
    "# Count total crimes by crime type per year\n",
    "year_crime_cnt = final_df.groupby(\"Year\")[\"Primary Type\"].count()\n",
    "\n",
    "# Get the population for each year, using lambda x: x[0] to ensure that the zip code has a unique population\n",
    "pop_per_year = final_df.groupby(\"Year\")[\"Population\"].unique().apply(lambda x: x[0])\n",
    "\n",
    "# Calculate per capita count\n",
    "per_capita_crime_rate = year_crime_cnt/pop_per_year\n",
    "\n",
    "# Put it in a dataframe\n",
    "yearly_per_capita = pd.DataFrame({\"Year\" : per_capita_crime_rate.index, \"Per Capita Count\" : per_capita_crime_rate.values})\n",
    "yearly_per_capita"
   ]
  },
  {
   "cell_type": "code",
   "execution_count": null,
   "metadata": {},
   "outputs": [],
   "source": [
    "# Graph per capita crime rates over the 5 years\n",
    "plt.plot(yearly_per_capita[\"Year\"], yearly_per_capita[\"Per Capita Count\"])\n",
    "\n",
    "# Add labels\n",
    "plt.xlabel(\"Year\")\n",
    "plt.ylabel(\"Per Capita Count\")\n",
    "plt.title(\"Per Capita Rate of Crime\")\n",
    "\n",
    "# Create new x-ticks\n",
    "new_xticks = [2018, 2019, 2020, 2021, 2022]\n",
    "plt.xticks(new_xticks)\n",
    "\n",
    "plt.show()"
   ]
  },
  {
   "cell_type": "code",
   "execution_count": null,
   "metadata": {},
   "outputs": [],
   "source": [
    "# Look at per capita crime rate per district over the five year timespan\n",
    "district_df = final_df[[\"Year\", \"District\", \"Primary Type\", \"Population\", \"Zipcode\"]]\n",
    "district_df\n",
    "\n",
    "# Get the population per district, using lambda x: x[0] to ensure that the zip code has a unique population. Sum(level = 0) will ensure that \n",
    "# unique populations are summed for each district, thus not counting the same zip code's population twice\n",
    "pop_per_district = district_df.groupby(\"District\")[\"Population\"].unique().apply(lambda x: x[0]).sum(level=0)\n",
    "\n",
    "# Get the per capita crime count\n",
    "cnt_per_district = district_df.groupby(\"District\")[\"Primary Type\"].count()\n",
    "\n",
    "# Get the per capita crime count\n",
    "per_cap_crime_cnt = cnt_per_district/pop_per_district\n",
    "\n",
    "# Put in a data frame\n",
    "district_per_capita = pd.DataFrame({\"District\" : per_cap_crime_cnt.index, \"Per Capita Crime Count\" : per_cap_crime_cnt.values})\n",
    "district_per_capita"
   ]
  },
  {
   "cell_type": "code",
   "execution_count": null,
   "metadata": {},
   "outputs": [],
   "source": [
    "# Graph the results\n",
    "district_per_capita.plot.bar(x='District', y='Per Capita Crime Count', legend=False)\n",
    "\n",
    "# Set labels and title\n",
    "plt.xlabel('District')\n",
    "plt.ylabel('Per Capita Crime Count')\n",
    "plt.title('Per Capita Crime Count by District')\n",
    "\n",
    "# Display the plot\n",
    "plt.show()"
   ]
  },
  {
   "cell_type": "code",
   "execution_count": null,
   "metadata": {},
   "outputs": [],
   "source": [
    "# Look at per capita crime rate per primary type over the five year timespan\n",
    "\n",
    "# Get the population per primary type, using lambda x: x[0] to ensure that the zip code has a unique population. \n",
    "pop_per_type = district_df.groupby(\"Primary Type\")[\"Population\"].unique().apply(lambda x: x[0])\n",
    "\n",
    "# Get the crime count\n",
    "cnt_per_type = district_df.groupby(\"Primary Type\")[\"Primary Type\"].count()\n",
    "\n",
    "# Get the per capita crime count\n",
    "per_cap_crime_type = cnt_per_type/pop_per_type\n",
    "\n",
    "# Put in a data frame\n",
    "type_per_capita = pd.DataFrame({\"Primary Type\" : per_cap_crime_type.index, \"Per Capita Crime Count\" : per_cap_crime_type.values})\n",
    "type_per_capita"
   ]
  },
  {
   "cell_type": "code",
   "execution_count": null,
   "metadata": {},
   "outputs": [],
   "source": [
    "# Graph the results\n",
    "type_per_capita.plot.bar(x='Primary Type', y='Per Capita Crime Count', legend=False)\n",
    "\n",
    "# Set labels and title\n",
    "plt.xlabel('Primary Type')\n",
    "plt.ylabel('Per Capita Crime Count')\n",
    "plt.title('Per Capita Crime Count by District')\n",
    "\n",
    "# Display the plot\n",
    "plt.show()"
   ]
  }
 ],
 "metadata": {
  "language_info": {
   "name": "python"
  },
  "orig_nbformat": 4
 },
 "nbformat": 4,
 "nbformat_minor": 2
}
